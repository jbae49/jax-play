{
  "nbformat": 4,
  "nbformat_minor": 0,
  "metadata": {
    "colab": {
      "provenance": []
    },
    "kernelspec": {
      "name": "python3",
      "display_name": "Python 3"
    },
    "language_info": {
      "name": "python"
    }
  },
  "cells": [
    {
      "cell_type": "markdown",
      "source": [
        "## What's JAX?\n",
        "\n",
        "Let's begin by recalling what JAX is. JAX is an ML/DL library developed by Google. I'd explain JAX as follows: **J** stands for JIT compilation using XLA, **A** represents auto-differentiation, a modified version of Tensorflow's autograd, also utilizing XLA as well, and lastly **X** refers to XLA itself, which stands for Accelerated Linear Algebra, which is a program optimized for accelerated matrix computations to be run much faster on accelerators (GPU/TPU) than NumPy."
      ],
      "metadata": {
        "id": "W3mwmByL_P0z"
      }
    },
    {
      "cell_type": "code",
      "source": [
        "import numpy as np\n",
        "from jax import grad, jit\n",
        "from jax import lax\n",
        "from jax import random\n",
        "import jax\n",
        "import jax.numpy as jnp"
      ],
      "metadata": {
        "id": "ZycBhFc8DWJI"
      },
      "execution_count": null,
      "outputs": []
    },
    {
      "cell_type": "markdown",
      "source": [
        "### Array updates: `x.at[idx].set(y)`\n"
      ],
      "metadata": {
        "id": "_YBThFXURwnw"
      }
    },
    {
      "cell_type": "code",
      "source": [
        "jax_arr = jnp.zeros((3,3), dtype=jnp.float32)\n",
        "jax_arr"
      ],
      "metadata": {
        "colab": {
          "base_uri": "https://localhost:8080/"
        },
        "id": "vBaoMcAQDraD",
        "outputId": "203c43c0-fa81-478a-e004-2106deda8276"
      },
      "execution_count": null,
      "outputs": [
        {
          "output_type": "execute_result",
          "data": {
            "text/plain": [
              "Array([[0., 0., 0.],\n",
              "       [0., 0., 0.],\n",
              "       [0., 0., 0.]], dtype=float32)"
            ]
          },
          "metadata": {},
          "execution_count": 2
        }
      ]
    },
    {
      "cell_type": "code",
      "source": [
        "jax_arr[1,:] = 1."
      ],
      "metadata": {
        "colab": {
          "base_uri": "https://localhost:8080/",
          "height": 339
        },
        "id": "uiKOcMsVR7mP",
        "outputId": "f1104d62-017f-4184-d735-345fe546ca88"
      },
      "execution_count": null,
      "outputs": [
        {
          "output_type": "error",
          "ename": "TypeError",
          "evalue": "'<class 'jaxlib.xla_extension.ArrayImpl'>' object does not support item assignment. JAX arrays are immutable. Instead of ``x[idx] = y``, use ``x = x.at[idx].set(y)`` or another .at[] method: https://jax.readthedocs.io/en/latest/_autosummary/jax.numpy.ndarray.at.html",
          "traceback": [
            "\u001b[0;31m---------------------------------------------------------------------------\u001b[0m",
            "\u001b[0;31mTypeError\u001b[0m                                 Traceback (most recent call last)",
            "\u001b[0;32m<ipython-input-3-29e212357c8d>\u001b[0m in \u001b[0;36m<cell line: 1>\u001b[0;34m()\u001b[0m\n\u001b[0;32m----> 1\u001b[0;31m \u001b[0mjax_arr\u001b[0m\u001b[0;34m[\u001b[0m\u001b[0;36m1\u001b[0m\u001b[0;34m,\u001b[0m\u001b[0;34m:\u001b[0m\u001b[0;34m]\u001b[0m \u001b[0;34m=\u001b[0m \u001b[0;36m1.\u001b[0m\u001b[0;34m\u001b[0m\u001b[0;34m\u001b[0m\u001b[0m\n\u001b[0m",
            "\u001b[0;32m/usr/local/lib/python3.10/dist-packages/jax/_src/numpy/array_methods.py\u001b[0m in \u001b[0;36m_unimplemented_setitem\u001b[0;34m(self, i, x)\u001b[0m\n\u001b[1;32m    283\u001b[0m          \u001b[0;34m\"or another .at[] method: \"\u001b[0m\u001b[0;34m\u001b[0m\u001b[0;34m\u001b[0m\u001b[0m\n\u001b[1;32m    284\u001b[0m          \"https://jax.readthedocs.io/en/latest/_autosummary/jax.numpy.ndarray.at.html\")\n\u001b[0;32m--> 285\u001b[0;31m   \u001b[0;32mraise\u001b[0m \u001b[0mTypeError\u001b[0m\u001b[0;34m(\u001b[0m\u001b[0mmsg\u001b[0m\u001b[0;34m.\u001b[0m\u001b[0mformat\u001b[0m\u001b[0;34m(\u001b[0m\u001b[0mtype\u001b[0m\u001b[0;34m(\u001b[0m\u001b[0mself\u001b[0m\u001b[0;34m)\u001b[0m\u001b[0;34m)\u001b[0m\u001b[0;34m)\u001b[0m\u001b[0;34m\u001b[0m\u001b[0;34m\u001b[0m\u001b[0m\n\u001b[0m\u001b[1;32m    286\u001b[0m \u001b[0;34m\u001b[0m\u001b[0m\n\u001b[1;32m    287\u001b[0m \u001b[0;32mdef\u001b[0m \u001b[0m_operator_round\u001b[0m\u001b[0;34m(\u001b[0m\u001b[0mnumber\u001b[0m\u001b[0;34m:\u001b[0m \u001b[0mArrayLike\u001b[0m\u001b[0;34m,\u001b[0m \u001b[0mndigits\u001b[0m\u001b[0;34m:\u001b[0m \u001b[0mint\u001b[0m \u001b[0;34m|\u001b[0m \u001b[0;32mNone\u001b[0m \u001b[0;34m=\u001b[0m \u001b[0;32mNone\u001b[0m\u001b[0;34m)\u001b[0m \u001b[0;34m->\u001b[0m \u001b[0mArray\u001b[0m\u001b[0;34m:\u001b[0m\u001b[0;34m\u001b[0m\u001b[0;34m\u001b[0m\u001b[0m\n",
            "\u001b[0;31mTypeError\u001b[0m: '<class 'jaxlib.xla_extension.ArrayImpl'>' object does not support item assignment. JAX arrays are immutable. Instead of ``x[idx] = y``, use ``x = x.at[idx].set(y)`` or another .at[] method: https://jax.readthedocs.io/en/latest/_autosummary/jax.numpy.ndarray.at.html"
          ]
        }
      ]
    },
    {
      "cell_type": "code",
      "source": [
        "jax_arr.at[1,:].set(1.)"
      ],
      "metadata": {
        "colab": {
          "base_uri": "https://localhost:8080/"
        },
        "id": "DhXXOijvR-80",
        "outputId": "d82b51cc-a796-4bec-9177-8a6da2b83e18"
      },
      "execution_count": null,
      "outputs": [
        {
          "output_type": "execute_result",
          "data": {
            "text/plain": [
              "Array([[0., 0., 0.],\n",
              "       [1., 1., 1.],\n",
              "       [0., 0., 0.]], dtype=float32)"
            ]
          },
          "metadata": {},
          "execution_count": 4
        }
      ]
    },
    {
      "cell_type": "code",
      "source": [
        "a = jnp.array([1,2,3,4,5])\n",
        "a[::2]"
      ],
      "metadata": {
        "colab": {
          "base_uri": "https://localhost:8080/"
        },
        "id": "AtBGAgj4SBpB",
        "outputId": "e1675158-7d8a-4b9d-af0e-154645b44627"
      },
      "execution_count": null,
      "outputs": [
        {
          "output_type": "execute_result",
          "data": {
            "text/plain": [
              "Array([1, 3, 5], dtype=int32)"
            ]
          },
          "metadata": {},
          "execution_count": 6
        }
      ]
    },
    {
      "cell_type": "markdown",
      "source": [
        "### Out-of-bounds indexing"
      ],
      "metadata": {
        "id": "x-ujrvQVS3ZK"
      }
    },
    {
      "cell_type": "code",
      "source": [
        "jnp.arange(10)"
      ],
      "metadata": {
        "colab": {
          "base_uri": "https://localhost:8080/"
        },
        "id": "COEMeWTLSbBQ",
        "outputId": "9169f31c-e9d3-444c-c0ec-bda32b297c49"
      },
      "execution_count": null,
      "outputs": [
        {
          "output_type": "execute_result",
          "data": {
            "text/plain": [
              "Array([0, 1, 2, 3, 4, 5, 6, 7, 8, 9], dtype=int32)"
            ]
          },
          "metadata": {},
          "execution_count": 7
        }
      ]
    },
    {
      "cell_type": "code",
      "source": [
        "jnp.arange(10)[11]"
      ],
      "metadata": {
        "colab": {
          "base_uri": "https://localhost:8080/"
        },
        "id": "O6WdHS0AS63Z",
        "outputId": "af4e05a2-7400-4869-e007-0c887a5be5c3"
      },
      "execution_count": null,
      "outputs": [
        {
          "output_type": "execute_result",
          "data": {
            "text/plain": [
              "Array(9, dtype=int32)"
            ]
          },
          "metadata": {},
          "execution_count": 8
        }
      ]
    },
    {
      "cell_type": "code",
      "source": [
        "jnp.arange(10).at[11].get(mode='fill', fill_value = jnp.nan)"
      ],
      "metadata": {
        "colab": {
          "base_uri": "https://localhost:8080/",
          "height": 578
        },
        "id": "pE_VFiEcTJJB",
        "outputId": "b3e76abe-9ed8-449e-e9ae-b2ab4edfce04"
      },
      "execution_count": null,
      "outputs": [
        {
          "output_type": "error",
          "ename": "ValueError",
          "evalue": "cannot convert float NaN to integer",
          "traceback": [
            "\u001b[0;31m---------------------------------------------------------------------------\u001b[0m",
            "\u001b[0;31mJaxStackTraceBeforeTransformation\u001b[0m         Traceback (most recent call last)",
            "\u001b[0;32m/usr/lib/python3.10/runpy.py\u001b[0m in \u001b[0;36m_run_module_as_main\u001b[0;34m()\u001b[0m\n\u001b[1;32m    195\u001b[0m         \u001b[0msys\u001b[0m\u001b[0;34m.\u001b[0m\u001b[0margv\u001b[0m\u001b[0;34m[\u001b[0m\u001b[0;36m0\u001b[0m\u001b[0;34m]\u001b[0m \u001b[0;34m=\u001b[0m \u001b[0mmod_spec\u001b[0m\u001b[0;34m.\u001b[0m\u001b[0morigin\u001b[0m\u001b[0;34m\u001b[0m\u001b[0;34m\u001b[0m\u001b[0m\n\u001b[0;32m--> 196\u001b[0;31m     return _run_code(code, main_globals, None,\n\u001b[0m\u001b[1;32m    197\u001b[0m                      \"__main__\", mod_spec)\n",
            "\u001b[0;32m/usr/lib/python3.10/runpy.py\u001b[0m in \u001b[0;36m_run_code\u001b[0;34m()\u001b[0m\n\u001b[1;32m     85\u001b[0m                        __spec__ = mod_spec)\n\u001b[0;32m---> 86\u001b[0;31m     \u001b[0mexec\u001b[0m\u001b[0;34m(\u001b[0m\u001b[0mcode\u001b[0m\u001b[0;34m,\u001b[0m \u001b[0mrun_globals\u001b[0m\u001b[0;34m)\u001b[0m\u001b[0;34m\u001b[0m\u001b[0;34m\u001b[0m\u001b[0m\n\u001b[0m\u001b[1;32m     87\u001b[0m     \u001b[0;32mreturn\u001b[0m \u001b[0mrun_globals\u001b[0m\u001b[0;34m\u001b[0m\u001b[0;34m\u001b[0m\u001b[0m\n",
            "\u001b[0;32m/usr/local/lib/python3.10/dist-packages/colab_kernel_launcher.py\u001b[0m in \u001b[0;36m<module>\u001b[0;34m\u001b[0m\n\u001b[1;32m     36\u001b[0m \u001b[0;32mif\u001b[0m \u001b[0m__name__\u001b[0m \u001b[0;34m==\u001b[0m \u001b[0;34m'__main__'\u001b[0m\u001b[0;34m:\u001b[0m\u001b[0;34m\u001b[0m\u001b[0;34m\u001b[0m\u001b[0m\n\u001b[0;32m---> 37\u001b[0;31m   \u001b[0mColabKernelApp\u001b[0m\u001b[0;34m.\u001b[0m\u001b[0mlaunch_instance\u001b[0m\u001b[0;34m(\u001b[0m\u001b[0;34m)\u001b[0m\u001b[0;34m\u001b[0m\u001b[0;34m\u001b[0m\u001b[0m\n\u001b[0m",
            "\u001b[0;32m/usr/local/lib/python3.10/dist-packages/traitlets/config/application.py\u001b[0m in \u001b[0;36mlaunch_instance\u001b[0;34m()\u001b[0m\n\u001b[1;32m    991\u001b[0m         \u001b[0mapp\u001b[0m\u001b[0;34m.\u001b[0m\u001b[0minitialize\u001b[0m\u001b[0;34m(\u001b[0m\u001b[0margv\u001b[0m\u001b[0;34m)\u001b[0m\u001b[0;34m\u001b[0m\u001b[0;34m\u001b[0m\u001b[0m\n\u001b[0;32m--> 992\u001b[0;31m         \u001b[0mapp\u001b[0m\u001b[0;34m.\u001b[0m\u001b[0mstart\u001b[0m\u001b[0;34m(\u001b[0m\u001b[0;34m)\u001b[0m\u001b[0;34m\u001b[0m\u001b[0;34m\u001b[0m\u001b[0m\n\u001b[0m\u001b[1;32m    993\u001b[0m \u001b[0;34m\u001b[0m\u001b[0m\n",
            "\u001b[0;32m/usr/local/lib/python3.10/dist-packages/ipykernel/kernelapp.py\u001b[0m in \u001b[0;36mstart\u001b[0;34m()\u001b[0m\n\u001b[1;32m    618\u001b[0m             \u001b[0;32mtry\u001b[0m\u001b[0;34m:\u001b[0m\u001b[0;34m\u001b[0m\u001b[0;34m\u001b[0m\u001b[0m\n\u001b[0;32m--> 619\u001b[0;31m                 \u001b[0mself\u001b[0m\u001b[0;34m.\u001b[0m\u001b[0mio_loop\u001b[0m\u001b[0;34m.\u001b[0m\u001b[0mstart\u001b[0m\u001b[0;34m(\u001b[0m\u001b[0;34m)\u001b[0m\u001b[0;34m\u001b[0m\u001b[0;34m\u001b[0m\u001b[0m\n\u001b[0m\u001b[1;32m    620\u001b[0m             \u001b[0;32mexcept\u001b[0m \u001b[0mKeyboardInterrupt\u001b[0m\u001b[0;34m:\u001b[0m\u001b[0;34m\u001b[0m\u001b[0;34m\u001b[0m\u001b[0m\n",
            "\u001b[0;32m/usr/local/lib/python3.10/dist-packages/tornado/platform/asyncio.py\u001b[0m in \u001b[0;36mstart\u001b[0;34m()\u001b[0m\n\u001b[1;32m    194\u001b[0m     \u001b[0;32mdef\u001b[0m \u001b[0mstart\u001b[0m\u001b[0;34m(\u001b[0m\u001b[0mself\u001b[0m\u001b[0;34m)\u001b[0m \u001b[0;34m->\u001b[0m \u001b[0;32mNone\u001b[0m\u001b[0;34m:\u001b[0m\u001b[0;34m\u001b[0m\u001b[0;34m\u001b[0m\u001b[0m\n\u001b[0;32m--> 195\u001b[0;31m         \u001b[0mself\u001b[0m\u001b[0;34m.\u001b[0m\u001b[0masyncio_loop\u001b[0m\u001b[0;34m.\u001b[0m\u001b[0mrun_forever\u001b[0m\u001b[0;34m(\u001b[0m\u001b[0;34m)\u001b[0m\u001b[0;34m\u001b[0m\u001b[0;34m\u001b[0m\u001b[0m\n\u001b[0m\u001b[1;32m    196\u001b[0m \u001b[0;34m\u001b[0m\u001b[0m\n",
            "\u001b[0;32m/usr/lib/python3.10/asyncio/base_events.py\u001b[0m in \u001b[0;36mrun_forever\u001b[0;34m()\u001b[0m\n\u001b[1;32m    602\u001b[0m             \u001b[0;32mwhile\u001b[0m \u001b[0;32mTrue\u001b[0m\u001b[0;34m:\u001b[0m\u001b[0;34m\u001b[0m\u001b[0;34m\u001b[0m\u001b[0m\n\u001b[0;32m--> 603\u001b[0;31m                 \u001b[0mself\u001b[0m\u001b[0;34m.\u001b[0m\u001b[0m_run_once\u001b[0m\u001b[0;34m(\u001b[0m\u001b[0;34m)\u001b[0m\u001b[0;34m\u001b[0m\u001b[0;34m\u001b[0m\u001b[0m\n\u001b[0m\u001b[1;32m    604\u001b[0m                 \u001b[0;32mif\u001b[0m \u001b[0mself\u001b[0m\u001b[0;34m.\u001b[0m\u001b[0m_stopping\u001b[0m\u001b[0;34m:\u001b[0m\u001b[0;34m\u001b[0m\u001b[0;34m\u001b[0m\u001b[0m\n",
            "\u001b[0;32m/usr/lib/python3.10/asyncio/base_events.py\u001b[0m in \u001b[0;36m_run_once\u001b[0;34m()\u001b[0m\n\u001b[1;32m   1908\u001b[0m             \u001b[0;32melse\u001b[0m\u001b[0;34m:\u001b[0m\u001b[0;34m\u001b[0m\u001b[0;34m\u001b[0m\u001b[0m\n\u001b[0;32m-> 1909\u001b[0;31m                 \u001b[0mhandle\u001b[0m\u001b[0;34m.\u001b[0m\u001b[0m_run\u001b[0m\u001b[0;34m(\u001b[0m\u001b[0;34m)\u001b[0m\u001b[0;34m\u001b[0m\u001b[0;34m\u001b[0m\u001b[0m\n\u001b[0m\u001b[1;32m   1910\u001b[0m         \u001b[0mhandle\u001b[0m \u001b[0;34m=\u001b[0m \u001b[0;32mNone\u001b[0m  \u001b[0;31m# Needed to break cycles when an exception occurs.\u001b[0m\u001b[0;34m\u001b[0m\u001b[0;34m\u001b[0m\u001b[0m\n",
            "\u001b[0;32m/usr/lib/python3.10/asyncio/events.py\u001b[0m in \u001b[0;36m_run\u001b[0;34m()\u001b[0m\n\u001b[1;32m     79\u001b[0m         \u001b[0;32mtry\u001b[0m\u001b[0;34m:\u001b[0m\u001b[0;34m\u001b[0m\u001b[0;34m\u001b[0m\u001b[0m\n\u001b[0;32m---> 80\u001b[0;31m             \u001b[0mself\u001b[0m\u001b[0;34m.\u001b[0m\u001b[0m_context\u001b[0m\u001b[0;34m.\u001b[0m\u001b[0mrun\u001b[0m\u001b[0;34m(\u001b[0m\u001b[0mself\u001b[0m\u001b[0;34m.\u001b[0m\u001b[0m_callback\u001b[0m\u001b[0;34m,\u001b[0m \u001b[0;34m*\u001b[0m\u001b[0mself\u001b[0m\u001b[0;34m.\u001b[0m\u001b[0m_args\u001b[0m\u001b[0;34m)\u001b[0m\u001b[0;34m\u001b[0m\u001b[0;34m\u001b[0m\u001b[0m\n\u001b[0m\u001b[1;32m     81\u001b[0m         \u001b[0;32mexcept\u001b[0m \u001b[0;34m(\u001b[0m\u001b[0mSystemExit\u001b[0m\u001b[0;34m,\u001b[0m \u001b[0mKeyboardInterrupt\u001b[0m\u001b[0;34m)\u001b[0m\u001b[0;34m:\u001b[0m\u001b[0;34m\u001b[0m\u001b[0;34m\u001b[0m\u001b[0m\n",
            "\u001b[0;32m/usr/local/lib/python3.10/dist-packages/tornado/ioloop.py\u001b[0m in \u001b[0;36m<lambda>\u001b[0;34m()\u001b[0m\n\u001b[1;32m    684\u001b[0m             future.add_done_callback(\n\u001b[0;32m--> 685\u001b[0;31m                 \u001b[0;32mlambda\u001b[0m \u001b[0mf\u001b[0m\u001b[0;34m:\u001b[0m \u001b[0mself\u001b[0m\u001b[0;34m.\u001b[0m\u001b[0m_run_callback\u001b[0m\u001b[0;34m(\u001b[0m\u001b[0mfunctools\u001b[0m\u001b[0;34m.\u001b[0m\u001b[0mpartial\u001b[0m\u001b[0;34m(\u001b[0m\u001b[0mcallback\u001b[0m\u001b[0;34m,\u001b[0m \u001b[0mfuture\u001b[0m\u001b[0;34m)\u001b[0m\u001b[0;34m)\u001b[0m\u001b[0;34m\u001b[0m\u001b[0;34m\u001b[0m\u001b[0m\n\u001b[0m\u001b[1;32m    686\u001b[0m             )\n",
            "\u001b[0;32m/usr/local/lib/python3.10/dist-packages/tornado/ioloop.py\u001b[0m in \u001b[0;36m_run_callback\u001b[0;34m()\u001b[0m\n\u001b[1;32m    737\u001b[0m         \u001b[0;32mtry\u001b[0m\u001b[0;34m:\u001b[0m\u001b[0;34m\u001b[0m\u001b[0;34m\u001b[0m\u001b[0m\n\u001b[0;32m--> 738\u001b[0;31m             \u001b[0mret\u001b[0m \u001b[0;34m=\u001b[0m \u001b[0mcallback\u001b[0m\u001b[0;34m(\u001b[0m\u001b[0;34m)\u001b[0m\u001b[0;34m\u001b[0m\u001b[0;34m\u001b[0m\u001b[0m\n\u001b[0m\u001b[1;32m    739\u001b[0m             \u001b[0;32mif\u001b[0m \u001b[0mret\u001b[0m \u001b[0;32mis\u001b[0m \u001b[0;32mnot\u001b[0m \u001b[0;32mNone\u001b[0m\u001b[0;34m:\u001b[0m\u001b[0;34m\u001b[0m\u001b[0;34m\u001b[0m\u001b[0m\n",
            "\u001b[0;32m/usr/local/lib/python3.10/dist-packages/tornado/gen.py\u001b[0m in \u001b[0;36minner\u001b[0;34m()\u001b[0m\n\u001b[1;32m    824\u001b[0m                 \u001b[0mf\u001b[0m \u001b[0;34m=\u001b[0m \u001b[0;32mNone\u001b[0m  \u001b[0;31m# noqa: F841\u001b[0m\u001b[0;34m\u001b[0m\u001b[0;34m\u001b[0m\u001b[0m\n\u001b[0;32m--> 825\u001b[0;31m                 \u001b[0mself\u001b[0m\u001b[0;34m.\u001b[0m\u001b[0mctx_run\u001b[0m\u001b[0;34m(\u001b[0m\u001b[0mself\u001b[0m\u001b[0;34m.\u001b[0m\u001b[0mrun\u001b[0m\u001b[0;34m)\u001b[0m\u001b[0;34m\u001b[0m\u001b[0;34m\u001b[0m\u001b[0m\n\u001b[0m\u001b[1;32m    826\u001b[0m \u001b[0;34m\u001b[0m\u001b[0m\n",
            "\u001b[0;32m/usr/local/lib/python3.10/dist-packages/tornado/gen.py\u001b[0m in \u001b[0;36mrun\u001b[0;34m()\u001b[0m\n\u001b[1;32m    785\u001b[0m                     \u001b[0;32melse\u001b[0m\u001b[0;34m:\u001b[0m\u001b[0;34m\u001b[0m\u001b[0;34m\u001b[0m\u001b[0m\n\u001b[0;32m--> 786\u001b[0;31m                         \u001b[0myielded\u001b[0m \u001b[0;34m=\u001b[0m \u001b[0mself\u001b[0m\u001b[0;34m.\u001b[0m\u001b[0mgen\u001b[0m\u001b[0;34m.\u001b[0m\u001b[0msend\u001b[0m\u001b[0;34m(\u001b[0m\u001b[0mvalue\u001b[0m\u001b[0;34m)\u001b[0m\u001b[0;34m\u001b[0m\u001b[0;34m\u001b[0m\u001b[0m\n\u001b[0m\u001b[1;32m    787\u001b[0m \u001b[0;34m\u001b[0m\u001b[0m\n",
            "\u001b[0;32m/usr/local/lib/python3.10/dist-packages/ipykernel/kernelbase.py\u001b[0m in \u001b[0;36mprocess_one\u001b[0;34m()\u001b[0m\n\u001b[1;32m    360\u001b[0m                 \u001b[0;32mreturn\u001b[0m \u001b[0;32mNone\u001b[0m\u001b[0;34m\u001b[0m\u001b[0;34m\u001b[0m\u001b[0m\n\u001b[0;32m--> 361\u001b[0;31m         \u001b[0;32myield\u001b[0m \u001b[0mgen\u001b[0m\u001b[0;34m.\u001b[0m\u001b[0mmaybe_future\u001b[0m\u001b[0;34m(\u001b[0m\u001b[0mdispatch\u001b[0m\u001b[0;34m(\u001b[0m\u001b[0;34m*\u001b[0m\u001b[0margs\u001b[0m\u001b[0;34m)\u001b[0m\u001b[0;34m)\u001b[0m\u001b[0;34m\u001b[0m\u001b[0;34m\u001b[0m\u001b[0m\n\u001b[0m\u001b[1;32m    362\u001b[0m \u001b[0;34m\u001b[0m\u001b[0m\n",
            "\u001b[0;32m/usr/local/lib/python3.10/dist-packages/tornado/gen.py\u001b[0m in \u001b[0;36mwrapper\u001b[0;34m()\u001b[0m\n\u001b[1;32m    233\u001b[0m                 \u001b[0;32mtry\u001b[0m\u001b[0;34m:\u001b[0m\u001b[0;34m\u001b[0m\u001b[0;34m\u001b[0m\u001b[0m\n\u001b[0;32m--> 234\u001b[0;31m                     \u001b[0myielded\u001b[0m \u001b[0;34m=\u001b[0m \u001b[0mctx_run\u001b[0m\u001b[0;34m(\u001b[0m\u001b[0mnext\u001b[0m\u001b[0;34m,\u001b[0m \u001b[0mresult\u001b[0m\u001b[0;34m)\u001b[0m\u001b[0;34m\u001b[0m\u001b[0;34m\u001b[0m\u001b[0m\n\u001b[0m\u001b[1;32m    235\u001b[0m                 \u001b[0;32mexcept\u001b[0m \u001b[0;34m(\u001b[0m\u001b[0mStopIteration\u001b[0m\u001b[0;34m,\u001b[0m \u001b[0mReturn\u001b[0m\u001b[0;34m)\u001b[0m \u001b[0;32mas\u001b[0m \u001b[0me\u001b[0m\u001b[0;34m:\u001b[0m\u001b[0;34m\u001b[0m\u001b[0;34m\u001b[0m\u001b[0m\n",
            "\u001b[0;32m/usr/local/lib/python3.10/dist-packages/ipykernel/kernelbase.py\u001b[0m in \u001b[0;36mdispatch_shell\u001b[0;34m()\u001b[0m\n\u001b[1;32m    260\u001b[0m             \u001b[0;32mtry\u001b[0m\u001b[0;34m:\u001b[0m\u001b[0;34m\u001b[0m\u001b[0;34m\u001b[0m\u001b[0m\n\u001b[0;32m--> 261\u001b[0;31m                 \u001b[0;32myield\u001b[0m \u001b[0mgen\u001b[0m\u001b[0;34m.\u001b[0m\u001b[0mmaybe_future\u001b[0m\u001b[0;34m(\u001b[0m\u001b[0mhandler\u001b[0m\u001b[0;34m(\u001b[0m\u001b[0mstream\u001b[0m\u001b[0;34m,\u001b[0m \u001b[0midents\u001b[0m\u001b[0;34m,\u001b[0m \u001b[0mmsg\u001b[0m\u001b[0;34m)\u001b[0m\u001b[0;34m)\u001b[0m\u001b[0;34m\u001b[0m\u001b[0;34m\u001b[0m\u001b[0m\n\u001b[0m\u001b[1;32m    262\u001b[0m             \u001b[0;32mexcept\u001b[0m \u001b[0mException\u001b[0m\u001b[0;34m:\u001b[0m\u001b[0;34m\u001b[0m\u001b[0;34m\u001b[0m\u001b[0m\n",
            "\u001b[0;32m/usr/local/lib/python3.10/dist-packages/tornado/gen.py\u001b[0m in \u001b[0;36mwrapper\u001b[0;34m()\u001b[0m\n\u001b[1;32m    233\u001b[0m                 \u001b[0;32mtry\u001b[0m\u001b[0;34m:\u001b[0m\u001b[0;34m\u001b[0m\u001b[0;34m\u001b[0m\u001b[0m\n\u001b[0;32m--> 234\u001b[0;31m                     \u001b[0myielded\u001b[0m \u001b[0;34m=\u001b[0m \u001b[0mctx_run\u001b[0m\u001b[0;34m(\u001b[0m\u001b[0mnext\u001b[0m\u001b[0;34m,\u001b[0m \u001b[0mresult\u001b[0m\u001b[0;34m)\u001b[0m\u001b[0;34m\u001b[0m\u001b[0;34m\u001b[0m\u001b[0m\n\u001b[0m\u001b[1;32m    235\u001b[0m                 \u001b[0;32mexcept\u001b[0m \u001b[0;34m(\u001b[0m\u001b[0mStopIteration\u001b[0m\u001b[0;34m,\u001b[0m \u001b[0mReturn\u001b[0m\u001b[0;34m)\u001b[0m \u001b[0;32mas\u001b[0m \u001b[0me\u001b[0m\u001b[0;34m:\u001b[0m\u001b[0;34m\u001b[0m\u001b[0;34m\u001b[0m\u001b[0m\n",
            "\u001b[0;32m/usr/local/lib/python3.10/dist-packages/ipykernel/kernelbase.py\u001b[0m in \u001b[0;36mexecute_request\u001b[0;34m()\u001b[0m\n\u001b[1;32m    538\u001b[0m         reply_content = yield gen.maybe_future(\n\u001b[0;32m--> 539\u001b[0;31m             self.do_execute(\n\u001b[0m\u001b[1;32m    540\u001b[0m                 \u001b[0mcode\u001b[0m\u001b[0;34m,\u001b[0m \u001b[0msilent\u001b[0m\u001b[0;34m,\u001b[0m \u001b[0mstore_history\u001b[0m\u001b[0;34m,\u001b[0m\u001b[0;34m\u001b[0m\u001b[0;34m\u001b[0m\u001b[0m\n",
            "\u001b[0;32m/usr/local/lib/python3.10/dist-packages/tornado/gen.py\u001b[0m in \u001b[0;36mwrapper\u001b[0;34m()\u001b[0m\n\u001b[1;32m    233\u001b[0m                 \u001b[0;32mtry\u001b[0m\u001b[0;34m:\u001b[0m\u001b[0;34m\u001b[0m\u001b[0;34m\u001b[0m\u001b[0m\n\u001b[0;32m--> 234\u001b[0;31m                     \u001b[0myielded\u001b[0m \u001b[0;34m=\u001b[0m \u001b[0mctx_run\u001b[0m\u001b[0;34m(\u001b[0m\u001b[0mnext\u001b[0m\u001b[0;34m,\u001b[0m \u001b[0mresult\u001b[0m\u001b[0;34m)\u001b[0m\u001b[0;34m\u001b[0m\u001b[0;34m\u001b[0m\u001b[0m\n\u001b[0m\u001b[1;32m    235\u001b[0m                 \u001b[0;32mexcept\u001b[0m \u001b[0;34m(\u001b[0m\u001b[0mStopIteration\u001b[0m\u001b[0;34m,\u001b[0m \u001b[0mReturn\u001b[0m\u001b[0;34m)\u001b[0m \u001b[0;32mas\u001b[0m \u001b[0me\u001b[0m\u001b[0;34m:\u001b[0m\u001b[0;34m\u001b[0m\u001b[0;34m\u001b[0m\u001b[0m\n",
            "\u001b[0;32m/usr/local/lib/python3.10/dist-packages/ipykernel/ipkernel.py\u001b[0m in \u001b[0;36mdo_execute\u001b[0;34m()\u001b[0m\n\u001b[1;32m    301\u001b[0m                 \u001b[0;31m# letting shell dispatch to loop runners\u001b[0m\u001b[0;34m\u001b[0m\u001b[0;34m\u001b[0m\u001b[0m\n\u001b[0;32m--> 302\u001b[0;31m                 \u001b[0mres\u001b[0m \u001b[0;34m=\u001b[0m \u001b[0mshell\u001b[0m\u001b[0;34m.\u001b[0m\u001b[0mrun_cell\u001b[0m\u001b[0;34m(\u001b[0m\u001b[0mcode\u001b[0m\u001b[0;34m,\u001b[0m \u001b[0mstore_history\u001b[0m\u001b[0;34m=\u001b[0m\u001b[0mstore_history\u001b[0m\u001b[0;34m,\u001b[0m \u001b[0msilent\u001b[0m\u001b[0;34m=\u001b[0m\u001b[0msilent\u001b[0m\u001b[0;34m)\u001b[0m\u001b[0;34m\u001b[0m\u001b[0;34m\u001b[0m\u001b[0m\n\u001b[0m\u001b[1;32m    303\u001b[0m         \u001b[0;32mfinally\u001b[0m\u001b[0;34m:\u001b[0m\u001b[0;34m\u001b[0m\u001b[0;34m\u001b[0m\u001b[0m\n",
            "\u001b[0;32m/usr/local/lib/python3.10/dist-packages/ipykernel/zmqshell.py\u001b[0m in \u001b[0;36mrun_cell\u001b[0;34m()\u001b[0m\n\u001b[1;32m    538\u001b[0m         \u001b[0mself\u001b[0m\u001b[0;34m.\u001b[0m\u001b[0m_last_traceback\u001b[0m \u001b[0;34m=\u001b[0m \u001b[0;32mNone\u001b[0m\u001b[0;34m\u001b[0m\u001b[0;34m\u001b[0m\u001b[0m\n\u001b[0;32m--> 539\u001b[0;31m         \u001b[0;32mreturn\u001b[0m \u001b[0msuper\u001b[0m\u001b[0;34m(\u001b[0m\u001b[0mZMQInteractiveShell\u001b[0m\u001b[0;34m,\u001b[0m \u001b[0mself\u001b[0m\u001b[0;34m)\u001b[0m\u001b[0;34m.\u001b[0m\u001b[0mrun_cell\u001b[0m\u001b[0;34m(\u001b[0m\u001b[0;34m*\u001b[0m\u001b[0margs\u001b[0m\u001b[0;34m,\u001b[0m \u001b[0;34m**\u001b[0m\u001b[0mkwargs\u001b[0m\u001b[0;34m)\u001b[0m\u001b[0;34m\u001b[0m\u001b[0;34m\u001b[0m\u001b[0m\n\u001b[0m\u001b[1;32m    540\u001b[0m \u001b[0;34m\u001b[0m\u001b[0m\n",
            "\u001b[0;32m/usr/local/lib/python3.10/dist-packages/IPython/core/interactiveshell.py\u001b[0m in \u001b[0;36mrun_cell\u001b[0;34m()\u001b[0m\n\u001b[1;32m   2974\u001b[0m         \u001b[0;32mtry\u001b[0m\u001b[0;34m:\u001b[0m\u001b[0;34m\u001b[0m\u001b[0;34m\u001b[0m\u001b[0m\n\u001b[0;32m-> 2975\u001b[0;31m             result = self._run_cell(\n\u001b[0m\u001b[1;32m   2976\u001b[0m                 \u001b[0mraw_cell\u001b[0m\u001b[0;34m,\u001b[0m \u001b[0mstore_history\u001b[0m\u001b[0;34m,\u001b[0m \u001b[0msilent\u001b[0m\u001b[0;34m,\u001b[0m \u001b[0mshell_futures\u001b[0m\u001b[0;34m,\u001b[0m \u001b[0mcell_id\u001b[0m\u001b[0;34m\u001b[0m\u001b[0;34m\u001b[0m\u001b[0m\n",
            "\u001b[0;32m/usr/local/lib/python3.10/dist-packages/IPython/core/interactiveshell.py\u001b[0m in \u001b[0;36m_run_cell\u001b[0;34m()\u001b[0m\n\u001b[1;32m   3029\u001b[0m         \u001b[0;32mtry\u001b[0m\u001b[0;34m:\u001b[0m\u001b[0;34m\u001b[0m\u001b[0;34m\u001b[0m\u001b[0m\n\u001b[0;32m-> 3030\u001b[0;31m             \u001b[0;32mreturn\u001b[0m \u001b[0mrunner\u001b[0m\u001b[0;34m(\u001b[0m\u001b[0mcoro\u001b[0m\u001b[0;34m)\u001b[0m\u001b[0;34m\u001b[0m\u001b[0;34m\u001b[0m\u001b[0m\n\u001b[0m\u001b[1;32m   3031\u001b[0m         \u001b[0;32mexcept\u001b[0m \u001b[0mBaseException\u001b[0m \u001b[0;32mas\u001b[0m \u001b[0me\u001b[0m\u001b[0;34m:\u001b[0m\u001b[0;34m\u001b[0m\u001b[0;34m\u001b[0m\u001b[0m\n",
            "\u001b[0;32m/usr/local/lib/python3.10/dist-packages/IPython/core/async_helpers.py\u001b[0m in \u001b[0;36m_pseudo_sync_runner\u001b[0;34m()\u001b[0m\n\u001b[1;32m     77\u001b[0m     \u001b[0;32mtry\u001b[0m\u001b[0;34m:\u001b[0m\u001b[0;34m\u001b[0m\u001b[0;34m\u001b[0m\u001b[0m\n\u001b[0;32m---> 78\u001b[0;31m         \u001b[0mcoro\u001b[0m\u001b[0;34m.\u001b[0m\u001b[0msend\u001b[0m\u001b[0;34m(\u001b[0m\u001b[0;32mNone\u001b[0m\u001b[0;34m)\u001b[0m\u001b[0;34m\u001b[0m\u001b[0;34m\u001b[0m\u001b[0m\n\u001b[0m\u001b[1;32m     79\u001b[0m     \u001b[0;32mexcept\u001b[0m \u001b[0mStopIteration\u001b[0m \u001b[0;32mas\u001b[0m \u001b[0mexc\u001b[0m\u001b[0;34m:\u001b[0m\u001b[0;34m\u001b[0m\u001b[0;34m\u001b[0m\u001b[0m\n",
            "\u001b[0;32m/usr/local/lib/python3.10/dist-packages/IPython/core/interactiveshell.py\u001b[0m in \u001b[0;36mrun_cell_async\u001b[0;34m()\u001b[0m\n\u001b[1;32m   3256\u001b[0m \u001b[0;34m\u001b[0m\u001b[0m\n\u001b[0;32m-> 3257\u001b[0;31m                 has_raised = await self.run_ast_nodes(code_ast.body, cell_name,\n\u001b[0m\u001b[1;32m   3258\u001b[0m                        interactivity=interactivity, compiler=compiler, result=result)\n",
            "\u001b[0;32m/usr/local/lib/python3.10/dist-packages/IPython/core/interactiveshell.py\u001b[0m in \u001b[0;36mrun_ast_nodes\u001b[0;34m()\u001b[0m\n\u001b[1;32m   3472\u001b[0m                         \u001b[0masy\u001b[0m \u001b[0;34m=\u001b[0m \u001b[0mcompare\u001b[0m\u001b[0;34m(\u001b[0m\u001b[0mcode\u001b[0m\u001b[0;34m)\u001b[0m\u001b[0;34m\u001b[0m\u001b[0;34m\u001b[0m\u001b[0m\n\u001b[0;32m-> 3473\u001b[0;31m                     \u001b[0;32mif\u001b[0m \u001b[0;34m(\u001b[0m\u001b[0;32mawait\u001b[0m \u001b[0mself\u001b[0m\u001b[0;34m.\u001b[0m\u001b[0mrun_code\u001b[0m\u001b[0;34m(\u001b[0m\u001b[0mcode\u001b[0m\u001b[0;34m,\u001b[0m \u001b[0mresult\u001b[0m\u001b[0;34m,\u001b[0m  \u001b[0masync_\u001b[0m\u001b[0;34m=\u001b[0m\u001b[0masy\u001b[0m\u001b[0;34m)\u001b[0m\u001b[0;34m)\u001b[0m\u001b[0;34m:\u001b[0m\u001b[0;34m\u001b[0m\u001b[0;34m\u001b[0m\u001b[0m\n\u001b[0m\u001b[1;32m   3474\u001b[0m                         \u001b[0;32mreturn\u001b[0m \u001b[0;32mTrue\u001b[0m\u001b[0;34m\u001b[0m\u001b[0;34m\u001b[0m\u001b[0m\n",
            "\u001b[0;32m/usr/local/lib/python3.10/dist-packages/IPython/core/interactiveshell.py\u001b[0m in \u001b[0;36mrun_code\u001b[0;34m()\u001b[0m\n\u001b[1;32m   3552\u001b[0m                 \u001b[0;32melse\u001b[0m\u001b[0;34m:\u001b[0m\u001b[0;34m\u001b[0m\u001b[0;34m\u001b[0m\u001b[0m\n\u001b[0;32m-> 3553\u001b[0;31m                     \u001b[0mexec\u001b[0m\u001b[0;34m(\u001b[0m\u001b[0mcode_obj\u001b[0m\u001b[0;34m,\u001b[0m \u001b[0mself\u001b[0m\u001b[0;34m.\u001b[0m\u001b[0muser_global_ns\u001b[0m\u001b[0;34m,\u001b[0m \u001b[0mself\u001b[0m\u001b[0;34m.\u001b[0m\u001b[0muser_ns\u001b[0m\u001b[0;34m)\u001b[0m\u001b[0;34m\u001b[0m\u001b[0;34m\u001b[0m\u001b[0m\n\u001b[0m\u001b[1;32m   3554\u001b[0m             \u001b[0;32mfinally\u001b[0m\u001b[0;34m:\u001b[0m\u001b[0;34m\u001b[0m\u001b[0;34m\u001b[0m\u001b[0m\n",
            "\u001b[0;32m<ipython-input-9-2d42757976f0>\u001b[0m in \u001b[0;36m<cell line: 2>\u001b[0;34m()\u001b[0m\n\u001b[1;32m      1\u001b[0m \u001b[0;31m# finer-grained control\u001b[0m\u001b[0;34m\u001b[0m\u001b[0;34m\u001b[0m\u001b[0m\n\u001b[0;32m----> 2\u001b[0;31m \u001b[0mjnp\u001b[0m\u001b[0;34m.\u001b[0m\u001b[0marange\u001b[0m\u001b[0;34m(\u001b[0m\u001b[0;36m10\u001b[0m\u001b[0;34m)\u001b[0m\u001b[0;34m.\u001b[0m\u001b[0mat\u001b[0m\u001b[0;34m[\u001b[0m\u001b[0;36m11\u001b[0m\u001b[0;34m]\u001b[0m\u001b[0;34m.\u001b[0m\u001b[0mget\u001b[0m\u001b[0;34m(\u001b[0m\u001b[0mmode\u001b[0m\u001b[0;34m=\u001b[0m\u001b[0;34m'fill'\u001b[0m\u001b[0;34m,\u001b[0m \u001b[0mfill_value\u001b[0m \u001b[0;34m=\u001b[0m \u001b[0mjnp\u001b[0m\u001b[0;34m.\u001b[0m\u001b[0mnan\u001b[0m\u001b[0;34m)\u001b[0m\u001b[0;34m\u001b[0m\u001b[0;34m\u001b[0m\u001b[0m\n\u001b[0m",
            "\u001b[0;32m/usr/local/lib/python3.10/dist-packages/jax/_src/numpy/array_methods.py\u001b[0m in \u001b[0;36mget\u001b[0;34m()\u001b[0m\n\u001b[1;32m    482\u001b[0m     \"\"\"\n\u001b[0;32m--> 483\u001b[0;31m     return lax_numpy._rewriting_take(self.array, self.index,\n\u001b[0m\u001b[1;32m    484\u001b[0m                                      \u001b[0mindices_are_sorted\u001b[0m\u001b[0;34m=\u001b[0m\u001b[0mindices_are_sorted\u001b[0m\u001b[0;34m,\u001b[0m\u001b[0;34m\u001b[0m\u001b[0;34m\u001b[0m\u001b[0m\n",
            "\u001b[0;32m/usr/local/lib/python3.10/dist-packages/jax/_src/numpy/lax_numpy.py\u001b[0m in \u001b[0;36m_rewriting_take\u001b[0;34m()\u001b[0m\n\u001b[1;32m   4493\u001b[0m   \u001b[0mtreedef\u001b[0m\u001b[0;34m,\u001b[0m \u001b[0mstatic_idx\u001b[0m\u001b[0;34m,\u001b[0m \u001b[0mdynamic_idx\u001b[0m \u001b[0;34m=\u001b[0m \u001b[0m_split_index_for_jit\u001b[0m\u001b[0;34m(\u001b[0m\u001b[0midx\u001b[0m\u001b[0;34m,\u001b[0m \u001b[0marr\u001b[0m\u001b[0;34m.\u001b[0m\u001b[0mshape\u001b[0m\u001b[0;34m)\u001b[0m\u001b[0;34m\u001b[0m\u001b[0;34m\u001b[0m\u001b[0m\n\u001b[0;32m-> 4494\u001b[0;31m   return _gather(arr, treedef, static_idx, dynamic_idx, indices_are_sorted,\n\u001b[0m\u001b[1;32m   4495\u001b[0m                  unique_indices, mode, fill_value)\n",
            "\u001b[0;32m/usr/local/lib/python3.10/dist-packages/jax/_src/numpy/lax_numpy.py\u001b[0m in \u001b[0;36m_gather\u001b[0;34m()\u001b[0m\n\u001b[1;32m   4520\u001b[0m   \u001b[0;32mif\u001b[0m \u001b[0;32mnot\u001b[0m \u001b[0mcore\u001b[0m\u001b[0;34m.\u001b[0m\u001b[0mis_empty_shape\u001b[0m\u001b[0;34m(\u001b[0m\u001b[0mindexer\u001b[0m\u001b[0;34m.\u001b[0m\u001b[0mgather_indices\u001b[0m\u001b[0;34m.\u001b[0m\u001b[0mshape\u001b[0m\u001b[0;34m)\u001b[0m\u001b[0;34m:\u001b[0m\u001b[0;34m\u001b[0m\u001b[0;34m\u001b[0m\u001b[0m\n\u001b[0;32m-> 4521\u001b[0;31m     y = lax.gather(\n\u001b[0m\u001b[1;32m   4522\u001b[0m       \u001b[0my\u001b[0m\u001b[0;34m,\u001b[0m \u001b[0mindexer\u001b[0m\u001b[0;34m.\u001b[0m\u001b[0mgather_indices\u001b[0m\u001b[0;34m,\u001b[0m \u001b[0mindexer\u001b[0m\u001b[0;34m.\u001b[0m\u001b[0mdnums\u001b[0m\u001b[0;34m,\u001b[0m \u001b[0mindexer\u001b[0m\u001b[0;34m.\u001b[0m\u001b[0mgather_slice_shape\u001b[0m\u001b[0;34m,\u001b[0m\u001b[0;34m\u001b[0m\u001b[0;34m\u001b[0m\u001b[0m\n",
            "\u001b[0;31mJaxStackTraceBeforeTransformation\u001b[0m: ValueError: cannot convert float NaN to integer\n\nThe preceding stack trace is the source of the JAX operation that, once transformed by JAX, triggered the following exception.\n\n--------------------",
            "\nThe above exception was the direct cause of the following exception:\n",
            "\u001b[0;31mValueError\u001b[0m                                Traceback (most recent call last)",
            "\u001b[0;32m<ipython-input-11-46f2e23c1020>\u001b[0m in \u001b[0;36m<cell line: 1>\u001b[0;34m()\u001b[0m\n\u001b[0;32m----> 1\u001b[0;31m \u001b[0mjnp\u001b[0m\u001b[0;34m.\u001b[0m\u001b[0marange\u001b[0m\u001b[0;34m(\u001b[0m\u001b[0;36m10\u001b[0m\u001b[0;34m)\u001b[0m\u001b[0;34m.\u001b[0m\u001b[0mat\u001b[0m\u001b[0;34m[\u001b[0m\u001b[0;36m11\u001b[0m\u001b[0;34m]\u001b[0m\u001b[0;34m.\u001b[0m\u001b[0mget\u001b[0m\u001b[0;34m(\u001b[0m\u001b[0mmode\u001b[0m\u001b[0;34m=\u001b[0m\u001b[0;34m'fill'\u001b[0m\u001b[0;34m,\u001b[0m \u001b[0mfill_value\u001b[0m \u001b[0;34m=\u001b[0m \u001b[0mjnp\u001b[0m\u001b[0;34m.\u001b[0m\u001b[0mnan\u001b[0m\u001b[0;34m)\u001b[0m\u001b[0;34m\u001b[0m\u001b[0;34m\u001b[0m\u001b[0m\n\u001b[0m",
            "\u001b[0;32m/usr/local/lib/python3.10/dist-packages/jax/_src/numpy/array_methods.py\u001b[0m in \u001b[0;36mget\u001b[0;34m(self, indices_are_sorted, unique_indices, mode, fill_value)\u001b[0m\n\u001b[1;32m    481\u001b[0m     \u001b[0mSee\u001b[0m \u001b[0;34m:\u001b[0m\u001b[0mmod\u001b[0m\u001b[0;34m:\u001b[0m\u001b[0;31m`\u001b[0m\u001b[0mjax\u001b[0m\u001b[0;34m.\u001b[0m\u001b[0mops\u001b[0m\u001b[0;31m`\u001b[0m \u001b[0;32mfor\u001b[0m \u001b[0mdetails\u001b[0m\u001b[0;34m.\u001b[0m\u001b[0;34m\u001b[0m\u001b[0;34m\u001b[0m\u001b[0m\n\u001b[1;32m    482\u001b[0m     \"\"\"\n\u001b[0;32m--> 483\u001b[0;31m     return lax_numpy._rewriting_take(self.array, self.index,\n\u001b[0m\u001b[1;32m    484\u001b[0m                                      \u001b[0mindices_are_sorted\u001b[0m\u001b[0;34m=\u001b[0m\u001b[0mindices_are_sorted\u001b[0m\u001b[0;34m,\u001b[0m\u001b[0;34m\u001b[0m\u001b[0;34m\u001b[0m\u001b[0m\n\u001b[1;32m    485\u001b[0m                                      \u001b[0munique_indices\u001b[0m\u001b[0;34m=\u001b[0m\u001b[0munique_indices\u001b[0m\u001b[0;34m,\u001b[0m \u001b[0mmode\u001b[0m\u001b[0;34m=\u001b[0m\u001b[0mmode\u001b[0m\u001b[0;34m,\u001b[0m\u001b[0;34m\u001b[0m\u001b[0;34m\u001b[0m\u001b[0m\n",
            "\u001b[0;32m/usr/local/lib/python3.10/dist-packages/jax/_src/numpy/lax_numpy.py\u001b[0m in \u001b[0;36m_rewriting_take\u001b[0;34m(arr, idx, indices_are_sorted, unique_indices, mode, fill_value)\u001b[0m\n\u001b[1;32m   4492\u001b[0m \u001b[0;34m\u001b[0m\u001b[0m\n\u001b[1;32m   4493\u001b[0m   \u001b[0mtreedef\u001b[0m\u001b[0;34m,\u001b[0m \u001b[0mstatic_idx\u001b[0m\u001b[0;34m,\u001b[0m \u001b[0mdynamic_idx\u001b[0m \u001b[0;34m=\u001b[0m \u001b[0m_split_index_for_jit\u001b[0m\u001b[0;34m(\u001b[0m\u001b[0midx\u001b[0m\u001b[0;34m,\u001b[0m \u001b[0marr\u001b[0m\u001b[0;34m.\u001b[0m\u001b[0mshape\u001b[0m\u001b[0;34m)\u001b[0m\u001b[0;34m\u001b[0m\u001b[0;34m\u001b[0m\u001b[0m\n\u001b[0;32m-> 4494\u001b[0;31m   return _gather(arr, treedef, static_idx, dynamic_idx, indices_are_sorted,\n\u001b[0m\u001b[1;32m   4495\u001b[0m                  unique_indices, mode, fill_value)\n\u001b[1;32m   4496\u001b[0m \u001b[0;34m\u001b[0m\u001b[0m\n",
            "\u001b[0;32m/usr/local/lib/python3.10/dist-packages/jax/_src/numpy/lax_numpy.py\u001b[0m in \u001b[0;36m_gather\u001b[0;34m(arr, treedef, static_idx, dynamic_idx, indices_are_sorted, unique_indices, mode, fill_value)\u001b[0m\n\u001b[1;32m   4519\u001b[0m   \u001b[0;31m# We avoid generating a gather when indexer.gather_indices.size is empty.\u001b[0m\u001b[0;34m\u001b[0m\u001b[0;34m\u001b[0m\u001b[0m\n\u001b[1;32m   4520\u001b[0m   \u001b[0;32mif\u001b[0m \u001b[0;32mnot\u001b[0m \u001b[0mcore\u001b[0m\u001b[0;34m.\u001b[0m\u001b[0mis_empty_shape\u001b[0m\u001b[0;34m(\u001b[0m\u001b[0mindexer\u001b[0m\u001b[0;34m.\u001b[0m\u001b[0mgather_indices\u001b[0m\u001b[0;34m.\u001b[0m\u001b[0mshape\u001b[0m\u001b[0;34m)\u001b[0m\u001b[0;34m:\u001b[0m\u001b[0;34m\u001b[0m\u001b[0;34m\u001b[0m\u001b[0m\n\u001b[0;32m-> 4521\u001b[0;31m     y = lax.gather(\n\u001b[0m\u001b[1;32m   4522\u001b[0m       \u001b[0my\u001b[0m\u001b[0;34m,\u001b[0m \u001b[0mindexer\u001b[0m\u001b[0;34m.\u001b[0m\u001b[0mgather_indices\u001b[0m\u001b[0;34m,\u001b[0m \u001b[0mindexer\u001b[0m\u001b[0;34m.\u001b[0m\u001b[0mdnums\u001b[0m\u001b[0;34m,\u001b[0m \u001b[0mindexer\u001b[0m\u001b[0;34m.\u001b[0m\u001b[0mgather_slice_shape\u001b[0m\u001b[0;34m,\u001b[0m\u001b[0;34m\u001b[0m\u001b[0;34m\u001b[0m\u001b[0m\n\u001b[1;32m   4523\u001b[0m       \u001b[0munique_indices\u001b[0m\u001b[0;34m=\u001b[0m\u001b[0munique_indices\u001b[0m \u001b[0;32mor\u001b[0m \u001b[0mindexer\u001b[0m\u001b[0;34m.\u001b[0m\u001b[0munique_indices\u001b[0m\u001b[0;34m,\u001b[0m\u001b[0;34m\u001b[0m\u001b[0;34m\u001b[0m\u001b[0m\n",
            "\u001b[0;32m/usr/local/lib/python3.10/dist-packages/jax/_src/lax/slicing.py\u001b[0m in \u001b[0;36mgather\u001b[0;34m(operand, start_indices, dimension_numbers, slice_sizes, unique_indices, indices_are_sorted, mode, fill_value)\u001b[0m\n\u001b[1;32m    346\u001b[0m   \u001b[0;32melse\u001b[0m\u001b[0;34m:\u001b[0m\u001b[0;34m\u001b[0m\u001b[0;34m\u001b[0m\u001b[0m\n\u001b[1;32m    347\u001b[0m     \u001b[0mfill_value\u001b[0m \u001b[0;34m=\u001b[0m \u001b[0;32mNone\u001b[0m\u001b[0;34m\u001b[0m\u001b[0;34m\u001b[0m\u001b[0m\n\u001b[0;32m--> 348\u001b[0;31m   return gather_p.bind(\n\u001b[0m\u001b[1;32m    349\u001b[0m       \u001b[0moperand\u001b[0m\u001b[0;34m,\u001b[0m \u001b[0mstart_indices\u001b[0m\u001b[0;34m,\u001b[0m \u001b[0mdimension_numbers\u001b[0m\u001b[0;34m=\u001b[0m\u001b[0mdimension_numbers\u001b[0m\u001b[0;34m,\u001b[0m\u001b[0;34m\u001b[0m\u001b[0;34m\u001b[0m\u001b[0m\n\u001b[1;32m    350\u001b[0m       \u001b[0mslice_sizes\u001b[0m\u001b[0;34m=\u001b[0m\u001b[0mcore\u001b[0m\u001b[0;34m.\u001b[0m\u001b[0mcanonicalize_shape\u001b[0m\u001b[0;34m(\u001b[0m\u001b[0mslice_sizes\u001b[0m\u001b[0;34m)\u001b[0m\u001b[0;34m,\u001b[0m\u001b[0;34m\u001b[0m\u001b[0;34m\u001b[0m\u001b[0m\n",
            "\u001b[0;32m/usr/local/lib/python3.10/dist-packages/jax/_src/core.py\u001b[0m in \u001b[0;36mbind\u001b[0;34m(self, *args, **params)\u001b[0m\n\u001b[1;32m    442\u001b[0m     assert (not config.enable_checks.value or\n\u001b[1;32m    443\u001b[0m             all(isinstance(arg, Tracer) or valid_jaxtype(arg) for arg in args)), args\n\u001b[0;32m--> 444\u001b[0;31m     \u001b[0;32mreturn\u001b[0m \u001b[0mself\u001b[0m\u001b[0;34m.\u001b[0m\u001b[0mbind_with_trace\u001b[0m\u001b[0;34m(\u001b[0m\u001b[0mfind_top_trace\u001b[0m\u001b[0;34m(\u001b[0m\u001b[0margs\u001b[0m\u001b[0;34m)\u001b[0m\u001b[0;34m,\u001b[0m \u001b[0margs\u001b[0m\u001b[0;34m,\u001b[0m \u001b[0mparams\u001b[0m\u001b[0;34m)\u001b[0m\u001b[0;34m\u001b[0m\u001b[0;34m\u001b[0m\u001b[0m\n\u001b[0m\u001b[1;32m    445\u001b[0m \u001b[0;34m\u001b[0m\u001b[0m\n\u001b[1;32m    446\u001b[0m   \u001b[0;32mdef\u001b[0m \u001b[0mbind_with_trace\u001b[0m\u001b[0;34m(\u001b[0m\u001b[0mself\u001b[0m\u001b[0;34m,\u001b[0m \u001b[0mtrace\u001b[0m\u001b[0;34m,\u001b[0m \u001b[0margs\u001b[0m\u001b[0;34m,\u001b[0m \u001b[0mparams\u001b[0m\u001b[0;34m)\u001b[0m\u001b[0;34m:\u001b[0m\u001b[0;34m\u001b[0m\u001b[0;34m\u001b[0m\u001b[0m\n",
            "\u001b[0;32m/usr/local/lib/python3.10/dist-packages/jax/_src/core.py\u001b[0m in \u001b[0;36mbind_with_trace\u001b[0;34m(self, trace, args, params)\u001b[0m\n\u001b[1;32m    445\u001b[0m \u001b[0;34m\u001b[0m\u001b[0m\n\u001b[1;32m    446\u001b[0m   \u001b[0;32mdef\u001b[0m \u001b[0mbind_with_trace\u001b[0m\u001b[0;34m(\u001b[0m\u001b[0mself\u001b[0m\u001b[0;34m,\u001b[0m \u001b[0mtrace\u001b[0m\u001b[0;34m,\u001b[0m \u001b[0margs\u001b[0m\u001b[0;34m,\u001b[0m \u001b[0mparams\u001b[0m\u001b[0;34m)\u001b[0m\u001b[0;34m:\u001b[0m\u001b[0;34m\u001b[0m\u001b[0;34m\u001b[0m\u001b[0m\n\u001b[0;32m--> 447\u001b[0;31m     \u001b[0mout\u001b[0m \u001b[0;34m=\u001b[0m \u001b[0mtrace\u001b[0m\u001b[0;34m.\u001b[0m\u001b[0mprocess_primitive\u001b[0m\u001b[0;34m(\u001b[0m\u001b[0mself\u001b[0m\u001b[0;34m,\u001b[0m \u001b[0mmap\u001b[0m\u001b[0;34m(\u001b[0m\u001b[0mtrace\u001b[0m\u001b[0;34m.\u001b[0m\u001b[0mfull_raise\u001b[0m\u001b[0;34m,\u001b[0m \u001b[0margs\u001b[0m\u001b[0;34m)\u001b[0m\u001b[0;34m,\u001b[0m \u001b[0mparams\u001b[0m\u001b[0;34m)\u001b[0m\u001b[0;34m\u001b[0m\u001b[0;34m\u001b[0m\u001b[0m\n\u001b[0m\u001b[1;32m    448\u001b[0m     \u001b[0;32mreturn\u001b[0m \u001b[0mmap\u001b[0m\u001b[0;34m(\u001b[0m\u001b[0mfull_lower\u001b[0m\u001b[0;34m,\u001b[0m \u001b[0mout\u001b[0m\u001b[0;34m)\u001b[0m \u001b[0;32mif\u001b[0m \u001b[0mself\u001b[0m\u001b[0;34m.\u001b[0m\u001b[0mmultiple_results\u001b[0m \u001b[0;32melse\u001b[0m \u001b[0mfull_lower\u001b[0m\u001b[0;34m(\u001b[0m\u001b[0mout\u001b[0m\u001b[0;34m)\u001b[0m\u001b[0;34m\u001b[0m\u001b[0;34m\u001b[0m\u001b[0m\n\u001b[1;32m    449\u001b[0m \u001b[0;34m\u001b[0m\u001b[0m\n",
            "\u001b[0;32m/usr/local/lib/python3.10/dist-packages/jax/_src/core.py\u001b[0m in \u001b[0;36mprocess_primitive\u001b[0;34m(self, primitive, tracers, params)\u001b[0m\n\u001b[1;32m    933\u001b[0m \u001b[0;34m\u001b[0m\u001b[0m\n\u001b[1;32m    934\u001b[0m   \u001b[0;32mdef\u001b[0m \u001b[0mprocess_primitive\u001b[0m\u001b[0;34m(\u001b[0m\u001b[0mself\u001b[0m\u001b[0;34m,\u001b[0m \u001b[0mprimitive\u001b[0m\u001b[0;34m,\u001b[0m \u001b[0mtracers\u001b[0m\u001b[0;34m,\u001b[0m \u001b[0mparams\u001b[0m\u001b[0;34m)\u001b[0m\u001b[0;34m:\u001b[0m\u001b[0;34m\u001b[0m\u001b[0;34m\u001b[0m\u001b[0m\n\u001b[0;32m--> 935\u001b[0;31m     \u001b[0;32mreturn\u001b[0m \u001b[0mprimitive\u001b[0m\u001b[0;34m.\u001b[0m\u001b[0mimpl\u001b[0m\u001b[0;34m(\u001b[0m\u001b[0;34m*\u001b[0m\u001b[0mtracers\u001b[0m\u001b[0;34m,\u001b[0m \u001b[0;34m**\u001b[0m\u001b[0mparams\u001b[0m\u001b[0;34m)\u001b[0m\u001b[0;34m\u001b[0m\u001b[0;34m\u001b[0m\u001b[0m\n\u001b[0m\u001b[1;32m    936\u001b[0m \u001b[0;34m\u001b[0m\u001b[0m\n\u001b[1;32m    937\u001b[0m   \u001b[0;32mdef\u001b[0m \u001b[0mprocess_call\u001b[0m\u001b[0;34m(\u001b[0m\u001b[0mself\u001b[0m\u001b[0;34m,\u001b[0m \u001b[0mprimitive\u001b[0m\u001b[0;34m,\u001b[0m \u001b[0mf\u001b[0m\u001b[0;34m,\u001b[0m \u001b[0mtracers\u001b[0m\u001b[0;34m,\u001b[0m \u001b[0mparams\u001b[0m\u001b[0;34m)\u001b[0m\u001b[0;34m:\u001b[0m\u001b[0;34m\u001b[0m\u001b[0;34m\u001b[0m\u001b[0m\n",
            "\u001b[0;32m/usr/local/lib/python3.10/dist-packages/jax/_src/dispatch.py\u001b[0m in \u001b[0;36mapply_primitive\u001b[0;34m(prim, *args, **params)\u001b[0m\n\u001b[1;32m     85\u001b[0m     \u001b[0mprev\u001b[0m \u001b[0;34m=\u001b[0m \u001b[0mlib\u001b[0m\u001b[0;34m.\u001b[0m\u001b[0mjax_jit\u001b[0m\u001b[0;34m.\u001b[0m\u001b[0mswap_thread_local_state_disable_jit\u001b[0m\u001b[0;34m(\u001b[0m\u001b[0;32mFalse\u001b[0m\u001b[0;34m)\u001b[0m\u001b[0;34m\u001b[0m\u001b[0;34m\u001b[0m\u001b[0m\n\u001b[1;32m     86\u001b[0m     \u001b[0;32mtry\u001b[0m\u001b[0;34m:\u001b[0m\u001b[0;34m\u001b[0m\u001b[0;34m\u001b[0m\u001b[0m\n\u001b[0;32m---> 87\u001b[0;31m       \u001b[0mouts\u001b[0m \u001b[0;34m=\u001b[0m \u001b[0mfun\u001b[0m\u001b[0;34m(\u001b[0m\u001b[0;34m*\u001b[0m\u001b[0margs\u001b[0m\u001b[0;34m)\u001b[0m\u001b[0;34m\u001b[0m\u001b[0;34m\u001b[0m\u001b[0m\n\u001b[0m\u001b[1;32m     88\u001b[0m     \u001b[0;32mfinally\u001b[0m\u001b[0;34m:\u001b[0m\u001b[0;34m\u001b[0m\u001b[0;34m\u001b[0m\u001b[0m\n\u001b[1;32m     89\u001b[0m       \u001b[0mlib\u001b[0m\u001b[0;34m.\u001b[0m\u001b[0mjax_jit\u001b[0m\u001b[0;34m.\u001b[0m\u001b[0mswap_thread_local_state_disable_jit\u001b[0m\u001b[0;34m(\u001b[0m\u001b[0mprev\u001b[0m\u001b[0;34m)\u001b[0m\u001b[0;34m\u001b[0m\u001b[0;34m\u001b[0m\u001b[0m\n",
            "    \u001b[0;31m[... skipping hidden 25 frame]\u001b[0m\n",
            "\u001b[0;32m/usr/local/lib/python3.10/dist-packages/jax/_src/lax/lax.py\u001b[0m in \u001b[0;36m_convert_elt_type_folding_rule\u001b[0;34m(consts, eqn)\u001b[0m\n\u001b[1;32m   2383\u001b[0m       \u001b[0misinstance\u001b[0m\u001b[0;34m(\u001b[0m\u001b[0mo\u001b[0m\u001b[0;34m.\u001b[0m\u001b[0maval\u001b[0m\u001b[0;34m,\u001b[0m \u001b[0mcore\u001b[0m\u001b[0;34m.\u001b[0m\u001b[0mUnshapedArray\u001b[0m\u001b[0;34m)\u001b[0m \u001b[0;32mand\u001b[0m \u001b[0;32mnot\u001b[0m \u001b[0mnp\u001b[0m\u001b[0;34m.\u001b[0m\u001b[0mshape\u001b[0m\u001b[0;34m(\u001b[0m\u001b[0mc\u001b[0m\u001b[0;34m)\u001b[0m \u001b[0;32mand\u001b[0m\u001b[0;34m\u001b[0m\u001b[0;34m\u001b[0m\u001b[0m\n\u001b[1;32m   2384\u001b[0m       not dtypes.issubdtype(eqn.params['new_dtype'], dtypes.extended)):\n\u001b[0;32m-> 2385\u001b[0;31m     \u001b[0mout\u001b[0m \u001b[0;34m=\u001b[0m \u001b[0mnp\u001b[0m\u001b[0;34m.\u001b[0m\u001b[0marray\u001b[0m\u001b[0;34m(\u001b[0m\u001b[0mc\u001b[0m\u001b[0;34m,\u001b[0m \u001b[0meqn\u001b[0m\u001b[0;34m.\u001b[0m\u001b[0mparams\u001b[0m\u001b[0;34m[\u001b[0m\u001b[0;34m'new_dtype'\u001b[0m\u001b[0;34m]\u001b[0m\u001b[0;34m)\u001b[0m\u001b[0;34m\u001b[0m\u001b[0;34m\u001b[0m\u001b[0m\n\u001b[0m\u001b[1;32m   2386\u001b[0m     \u001b[0;32mif\u001b[0m \u001b[0;32mnot\u001b[0m \u001b[0mo\u001b[0m\u001b[0;34m.\u001b[0m\u001b[0maval\u001b[0m\u001b[0;34m.\u001b[0m\u001b[0mweak_type\u001b[0m\u001b[0;34m:\u001b[0m\u001b[0;34m\u001b[0m\u001b[0;34m\u001b[0m\u001b[0m\n\u001b[1;32m   2387\u001b[0m       \u001b[0;32mreturn\u001b[0m \u001b[0;34m[\u001b[0m\u001b[0mout\u001b[0m\u001b[0;34m]\u001b[0m\u001b[0;34m,\u001b[0m \u001b[0;32mNone\u001b[0m\u001b[0;34m\u001b[0m\u001b[0;34m\u001b[0m\u001b[0m\n",
            "\u001b[0;31mValueError\u001b[0m: cannot convert float NaN to integer"
          ]
        }
      ]
    },
    {
      "cell_type": "code",
      "source": [
        "# finer-grained control\n",
        "jnp.arange(10.).at[11].get(mode='fill', fill_value = jnp.nan)"
      ],
      "metadata": {
        "colab": {
          "base_uri": "https://localhost:8080/"
        },
        "id": "0ScbsQrwS7yQ",
        "outputId": "fd8615f6-d8b2-4308-ac51-34726778a60c"
      },
      "execution_count": null,
      "outputs": [
        {
          "output_type": "execute_result",
          "data": {
            "text/plain": [
              "Array(nan, dtype=float32)"
            ]
          },
          "metadata": {},
          "execution_count": 10
        }
      ]
    },
    {
      "cell_type": "markdown",
      "source": [
        "### JAX doens't like tuple or list"
      ],
      "metadata": {
        "id": "F3V98jHHcfG8"
      }
    },
    {
      "cell_type": "code",
      "source": [
        "jnp.sum([1,2,3])"
      ],
      "metadata": {
        "id": "GWRKuEJmTE-R",
        "colab": {
          "base_uri": "https://localhost:8080/",
          "height": 363
        },
        "outputId": "6341b7a8-96a4-44b6-9717-aabef82302ac"
      },
      "execution_count": null,
      "outputs": [
        {
          "output_type": "error",
          "ename": "TypeError",
          "evalue": "sum requires ndarray or scalar arguments, got <class 'list'> at position 0.",
          "traceback": [
            "\u001b[0;31m---------------------------------------------------------------------------\u001b[0m",
            "\u001b[0;31mTypeError\u001b[0m                                 Traceback (most recent call last)",
            "\u001b[0;32m<ipython-input-2-b1fdafa01418>\u001b[0m in \u001b[0;36m<cell line: 1>\u001b[0;34m()\u001b[0m\n\u001b[0;32m----> 1\u001b[0;31m \u001b[0mjnp\u001b[0m\u001b[0;34m.\u001b[0m\u001b[0msum\u001b[0m\u001b[0;34m(\u001b[0m\u001b[0;34m[\u001b[0m\u001b[0;36m1\u001b[0m\u001b[0;34m,\u001b[0m\u001b[0;36m2\u001b[0m\u001b[0;34m,\u001b[0m\u001b[0;36m3\u001b[0m\u001b[0;34m]\u001b[0m\u001b[0;34m)\u001b[0m\u001b[0;34m\u001b[0m\u001b[0;34m\u001b[0m\u001b[0m\n\u001b[0m",
            "\u001b[0;32m/usr/local/lib/python3.10/dist-packages/jax/_src/numpy/reductions.py\u001b[0m in \u001b[0;36msum\u001b[0;34m(a, axis, dtype, out, keepdims, initial, where, promote_integers)\u001b[0m\n\u001b[1;32m    220\u001b[0m         \u001b[0mout\u001b[0m\u001b[0;34m:\u001b[0m \u001b[0;32mNone\u001b[0m \u001b[0;34m=\u001b[0m \u001b[0;32mNone\u001b[0m\u001b[0;34m,\u001b[0m \u001b[0mkeepdims\u001b[0m\u001b[0;34m:\u001b[0m \u001b[0mbool\u001b[0m \u001b[0;34m=\u001b[0m \u001b[0;32mFalse\u001b[0m\u001b[0;34m,\u001b[0m \u001b[0minitial\u001b[0m\u001b[0;34m:\u001b[0m \u001b[0mArrayLike\u001b[0m \u001b[0;34m|\u001b[0m \u001b[0;32mNone\u001b[0m \u001b[0;34m=\u001b[0m \u001b[0;32mNone\u001b[0m\u001b[0;34m,\u001b[0m\u001b[0;34m\u001b[0m\u001b[0;34m\u001b[0m\u001b[0m\n\u001b[1;32m    221\u001b[0m         where: ArrayLike | None = None, promote_integers: bool = True) -> Array:\n\u001b[0;32m--> 222\u001b[0;31m   return _reduce_sum(a, axis=_ensure_optional_axes(axis), dtype=dtype, out=out,\n\u001b[0m\u001b[1;32m    223\u001b[0m                      \u001b[0mkeepdims\u001b[0m\u001b[0;34m=\u001b[0m\u001b[0mkeepdims\u001b[0m\u001b[0;34m,\u001b[0m \u001b[0minitial\u001b[0m\u001b[0;34m=\u001b[0m\u001b[0minitial\u001b[0m\u001b[0;34m,\u001b[0m \u001b[0mwhere\u001b[0m\u001b[0;34m=\u001b[0m\u001b[0mwhere\u001b[0m\u001b[0;34m,\u001b[0m\u001b[0;34m\u001b[0m\u001b[0;34m\u001b[0m\u001b[0m\n\u001b[1;32m    224\u001b[0m                      promote_integers=promote_integers)\n",
            "    \u001b[0;31m[... skipping hidden 12 frame]\u001b[0m\n",
            "\u001b[0;32m/usr/local/lib/python3.10/dist-packages/jax/_src/numpy/reductions.py\u001b[0m in \u001b[0;36m_reduce_sum\u001b[0;34m(a, axis, dtype, out, keepdims, initial, where, promote_integers)\u001b[0m\n\u001b[1;32m    210\u001b[0m                 \u001b[0minitial\u001b[0m\u001b[0;34m:\u001b[0m \u001b[0mArrayLike\u001b[0m \u001b[0;34m|\u001b[0m \u001b[0;32mNone\u001b[0m \u001b[0;34m=\u001b[0m \u001b[0;32mNone\u001b[0m\u001b[0;34m,\u001b[0m \u001b[0mwhere\u001b[0m\u001b[0;34m:\u001b[0m \u001b[0mArrayLike\u001b[0m \u001b[0;34m|\u001b[0m \u001b[0;32mNone\u001b[0m \u001b[0;34m=\u001b[0m \u001b[0;32mNone\u001b[0m\u001b[0;34m,\u001b[0m\u001b[0;34m\u001b[0m\u001b[0;34m\u001b[0m\u001b[0m\n\u001b[1;32m    211\u001b[0m                 promote_integers: bool = True) -> Array:\n\u001b[0;32m--> 212\u001b[0;31m   return _reduction(a, \"sum\", np.sum, lax.add, 0, preproc=_cast_to_numeric,\n\u001b[0m\u001b[1;32m    213\u001b[0m                     \u001b[0mbool_op\u001b[0m\u001b[0;34m=\u001b[0m\u001b[0mlax\u001b[0m\u001b[0;34m.\u001b[0m\u001b[0mbitwise_or\u001b[0m\u001b[0;34m,\u001b[0m \u001b[0mupcast_f16_for_computation\u001b[0m\u001b[0;34m=\u001b[0m\u001b[0;32mTrue\u001b[0m\u001b[0;34m,\u001b[0m\u001b[0;34m\u001b[0m\u001b[0;34m\u001b[0m\u001b[0m\n\u001b[1;32m    214\u001b[0m                     \u001b[0maxis\u001b[0m\u001b[0;34m=\u001b[0m\u001b[0maxis\u001b[0m\u001b[0;34m,\u001b[0m \u001b[0mdtype\u001b[0m\u001b[0;34m=\u001b[0m\u001b[0mdtype\u001b[0m\u001b[0;34m,\u001b[0m \u001b[0mout\u001b[0m\u001b[0;34m=\u001b[0m\u001b[0mout\u001b[0m\u001b[0;34m,\u001b[0m \u001b[0mkeepdims\u001b[0m\u001b[0;34m=\u001b[0m\u001b[0mkeepdims\u001b[0m\u001b[0;34m,\u001b[0m\u001b[0;34m\u001b[0m\u001b[0;34m\u001b[0m\u001b[0m\n",
            "\u001b[0;32m/usr/local/lib/python3.10/dist-packages/jax/_src/numpy/reductions.py\u001b[0m in \u001b[0;36m_reduction\u001b[0;34m(a, name, np_fun, op, init_val, has_identity, preproc, bool_op, upcast_f16_for_computation, axis, dtype, out, keepdims, initial, where_, parallel_reduce, promote_integers)\u001b[0m\n\u001b[1;32m     84\u001b[0m   \u001b[0;32mif\u001b[0m \u001b[0mout\u001b[0m \u001b[0;32mis\u001b[0m \u001b[0;32mnot\u001b[0m \u001b[0;32mNone\u001b[0m\u001b[0;34m:\u001b[0m\u001b[0;34m\u001b[0m\u001b[0;34m\u001b[0m\u001b[0m\n\u001b[1;32m     85\u001b[0m     \u001b[0;32mraise\u001b[0m \u001b[0mNotImplementedError\u001b[0m\u001b[0;34m(\u001b[0m\u001b[0;34mf\"The 'out' argument to jnp.{name} is not supported.\"\u001b[0m\u001b[0;34m)\u001b[0m\u001b[0;34m\u001b[0m\u001b[0;34m\u001b[0m\u001b[0m\n\u001b[0;32m---> 86\u001b[0;31m   \u001b[0mcheck_arraylike\u001b[0m\u001b[0;34m(\u001b[0m\u001b[0mname\u001b[0m\u001b[0;34m,\u001b[0m \u001b[0ma\u001b[0m\u001b[0;34m)\u001b[0m\u001b[0;34m\u001b[0m\u001b[0;34m\u001b[0m\u001b[0m\n\u001b[0m\u001b[1;32m     87\u001b[0m   \u001b[0mdtypes\u001b[0m\u001b[0;34m.\u001b[0m\u001b[0mcheck_user_dtype_supported\u001b[0m\u001b[0;34m(\u001b[0m\u001b[0mdtype\u001b[0m\u001b[0;34m,\u001b[0m \u001b[0mname\u001b[0m\u001b[0;34m)\u001b[0m\u001b[0;34m\u001b[0m\u001b[0;34m\u001b[0m\u001b[0m\n\u001b[1;32m     88\u001b[0m   \u001b[0maxis\u001b[0m \u001b[0;34m=\u001b[0m \u001b[0mcore\u001b[0m\u001b[0;34m.\u001b[0m\u001b[0mconcrete_or_error\u001b[0m\u001b[0;34m(\u001b[0m\u001b[0;32mNone\u001b[0m\u001b[0;34m,\u001b[0m \u001b[0maxis\u001b[0m\u001b[0;34m,\u001b[0m \u001b[0;34mf\"axis argument to jnp.{name}().\"\u001b[0m\u001b[0;34m)\u001b[0m\u001b[0;34m\u001b[0m\u001b[0;34m\u001b[0m\u001b[0m\n",
            "\u001b[0;32m/usr/local/lib/python3.10/dist-packages/jax/_src/numpy/util.py\u001b[0m in \u001b[0;36mcheck_arraylike\u001b[0;34m(fun_name, emit_warning, stacklevel, *args)\u001b[0m\n\u001b[1;32m    333\u001b[0m                     category=DeprecationWarning, stacklevel=stacklevel)\n\u001b[1;32m    334\u001b[0m     \u001b[0;32melse\u001b[0m\u001b[0;34m:\u001b[0m\u001b[0;34m\u001b[0m\u001b[0;34m\u001b[0m\u001b[0m\n\u001b[0;32m--> 335\u001b[0;31m       \u001b[0;32mraise\u001b[0m \u001b[0mTypeError\u001b[0m\u001b[0;34m(\u001b[0m\u001b[0mmsg\u001b[0m\u001b[0;34m.\u001b[0m\u001b[0mformat\u001b[0m\u001b[0;34m(\u001b[0m\u001b[0mfun_name\u001b[0m\u001b[0;34m,\u001b[0m \u001b[0mtype\u001b[0m\u001b[0;34m(\u001b[0m\u001b[0marg\u001b[0m\u001b[0;34m)\u001b[0m\u001b[0;34m,\u001b[0m \u001b[0mpos\u001b[0m\u001b[0;34m)\u001b[0m\u001b[0;34m)\u001b[0m\u001b[0;34m\u001b[0m\u001b[0;34m\u001b[0m\u001b[0m\n\u001b[0m\u001b[1;32m    336\u001b[0m \u001b[0;34m\u001b[0m\u001b[0m\n\u001b[1;32m    337\u001b[0m \u001b[0;34m\u001b[0m\u001b[0m\n",
            "\u001b[0;31mTypeError\u001b[0m: sum requires ndarray or scalar arguments, got <class 'list'> at position 0."
          ]
        }
      ]
    },
    {
      "cell_type": "code",
      "source": [
        "jnp.sum(jnp.array([1,2,3]))"
      ],
      "metadata": {
        "colab": {
          "base_uri": "https://localhost:8080/"
        },
        "id": "YamdAMGxdG4F",
        "outputId": "18733c2f-c12c-46c1-bb17-66e89c8f9a66"
      },
      "execution_count": null,
      "outputs": [
        {
          "output_type": "execute_result",
          "data": {
            "text/plain": [
              "Array(6, dtype=int32)"
            ]
          },
          "metadata": {},
          "execution_count": 3
        }
      ]
    },
    {
      "cell_type": "markdown",
      "source": [
        "### Review PNGs and State\n",
        "\n",
        "`numpy` uses PRNG called the Mersenne Twister. The state of the Mersenne Twister is represented by a state vector consisting of 624 32bit unsigned integers. Each time being called, it updates a state vector (\"consuming 2 of uint32s\") and later can mess up entropy for end users."
      ],
      "metadata": {
        "id": "smGlKAfXdSKn"
      }
    },
    {
      "cell_type": "code",
      "source": [
        "print(np.random.random())\n",
        "print(np.random.random())\n",
        "print(np.random.random())"
      ],
      "metadata": {
        "colab": {
          "base_uri": "https://localhost:8080/"
        },
        "id": "2URhCdcXdMtE",
        "outputId": "12150197-f1a1-4031-c6e9-bd979bf1214c"
      },
      "execution_count": null,
      "outputs": [
        {
          "output_type": "stream",
          "name": "stdout",
          "text": [
            "0.5488135039273248\n",
            "0.7151893663724195\n",
            "0.6027633760716439\n"
          ]
        }
      ]
    },
    {
      "cell_type": "code",
      "source": [
        "np.random.seed(0)"
      ],
      "metadata": {
        "id": "W7SFrwCxdV5v"
      },
      "execution_count": null,
      "outputs": []
    },
    {
      "cell_type": "code",
      "source": [
        "_ = np.random.uniform()\n",
        "rng_state = np.random.get_state(); rng_state"
      ],
      "metadata": {
        "colab": {
          "base_uri": "https://localhost:8080/"
        },
        "id": "bjjwSPEMdckZ",
        "outputId": "76b9ccc3-04d8-449e-9d99-3b3c517f530f"
      },
      "execution_count": null,
      "outputs": [
        {
          "output_type": "execute_result",
          "data": {
            "text/plain": [
              "('MT19937',\n",
              " array([2443250962, 1093594115, 1878467924, 2709361018, 1101979660,\n",
              "        3904844661,  676747479, 2085143622, 1056793272, 3812477442,\n",
              "        2168787041,  275552121, 2696932952, 3432054210, 1657102335,\n",
              "        3518946594,  962584079, 1051271004, 3806145045, 1414436097,\n",
              "        2032348584, 1661738718, 1116708477, 2562755208, 3176189976,\n",
              "         696824676, 2399811678, 3992505346,  569184356, 2626558620,\n",
              "         136797809, 4273176064,  296167901, 3430730584,  331909803,\n",
              "        1908676996, 1950065095,  604298543, 3615988338, 1570232852,\n",
              "        1028209748, 1511467721, 2411887154, 4210753555, 3096762720,\n",
              "         423429618,  659966766, 2937509307, 2222847265,  378636552,\n",
              "        1142109618, 2509241601, 1521729757,  888533219,  250885260,\n",
              "        2455816244, 4046047811, 1947467789, 1395351953, 2388948566,\n",
              "         934627940,  194642258, 1429256273, 2139959677, 1543740405,\n",
              "        1569613451, 4061840539, 2075690423,  824532376,  844152077,\n",
              "        3218002536,  897315311,  823414659, 1007534698, 3139313867,\n",
              "        2332794462, 3675156583,  722594429, 3715123011, 2656840676,\n",
              "        2373277715, 1516144243, 1538161999, 1399719297, 1448820876,\n",
              "        3180842436, 2020192709, 3279498509, 1048107540, 3094290376,\n",
              "        3706920703, 3810051683, 4003871775, 1069557309,  151535004,\n",
              "         667695756,  861767313, 1643171871, 3649507728, 3785763588,\n",
              "         737899497, 2332908276, 4082123854, 1584539673, 3929877280,\n",
              "        1046086041, 1304062606, 2311324008, 1190424879,  538647603,\n",
              "        1728806718,  148948582,  659721465, 2351006009,  185647941,\n",
              "        1825934330, 2126619619, 2230539295, 3878421575,  965937340,\n",
              "        2835563987,  419858879, 1527311104, 2042333483, 2745134265,\n",
              "        3540517373, 1100062165, 2308613697, 2690739856, 2048293545,\n",
              "        2742876486, 2408502115,   53398423, 3089771461, 1398529613,\n",
              "        2132477261,  504134301, 1535108421, 1968507173, 3412472770,\n",
              "        4048517196, 3509143071,  857063211, 1429875570, 4120479871,\n",
              "        2786574360, 2470799871, 1644104875, 2326863162, 2033900387,\n",
              "         274888909, 2629973384, 1154405937, 1839988197, 2163830694,\n",
              "         268733679, 2928953965,  387153042, 3790900490, 3202349717,\n",
              "        3799209681, 2524871464, 3801447311, 3543081470, 1801633977,\n",
              "        3870370950, 1581678156,  358283485, 4133385582, 4052311650,\n",
              "         249498956, 1712028623, 3618329357, 3395106946, 2704820515,\n",
              "          26653208, 2437509555, 4192186371, 3639946838, 2615917799,\n",
              "         294624699,  463886267, 2477203673, 2514051526, 4162882381,\n",
              "        2937629358, 3180524454, 1388392394, 2637132139, 1999482082,\n",
              "        1870663339, 2852309250, 3489430700, 1116063402, 1673637188,\n",
              "        1941955790, 4081919937, 2322920953, 3500518887, 2722575905,\n",
              "         405031829, 3728964889, 3464559963,  665516555, 1626835870,\n",
              "        2523729468,  238289561,  497556937, 2581429740, 3456619478,\n",
              "        2601389837,  820426192,  268141532, 2654829421,  349692193,\n",
              "        2426957585, 1465734488,   85095426, 1080895536, 2823366942,\n",
              "         379322515, 2938986739, 1561328720, 2940081697,  607513620,\n",
              "        2724557130, 2841377034,   14123440, 1085631349, 1977859413,\n",
              "        1325586902, 1690398943, 2516154740, 4144373551,  555899232,\n",
              "        1472707937, 3318086852,  719779833, 3545481907, 1384350857,\n",
              "         191709822, 2924586997, 3905397527, 2528674757, 2377804096,\n",
              "        2742818576, 4162971050, 1916415976, 2229076768,  132706400,\n",
              "        1337415646,  251604474, 4168783505,  819499074, 1213291699,\n",
              "        2098930479, 1009044052, 1060792037, 2169940733, 2973281031,\n",
              "         636656529, 1946890813,  367099469, 4076624283,  338339529,\n",
              "         561343735, 3309733580, 3895891229,  516195845, 3075613489,\n",
              "        3076388119, 4088758753, 3895582245, 1192445752, 2923797073,\n",
              "        2272605437, 2964193665,  943979628, 3263904824, 1852145108,\n",
              "        1911050628, 1596880711,  479795791,  212699077, 2172697748,\n",
              "        1764175804, 3951845064, 2182587171, 2396848133, 2718837214,\n",
              "        2934177572, 3638054152,  914795167, 1028977354, 1744985339,\n",
              "        1161407853, 2069746822, 3109934340, 3666150054,  729399111,\n",
              "        2911998815,  152809615,  417267263, 1064343325, 2751707923,\n",
              "        1833270972,  886939906, 4054231201, 1410366452,  976142646,\n",
              "        1452795786, 1904234879, 4231894541, 1505392175, 3498767279,\n",
              "         833704604, 2100592828,  688268099, 1752675602, 1975556664,\n",
              "        2102210733,  698665709, 1232104968, 4051336323, 1740516649,\n",
              "        3131721670, 3755143232, 3433756601,  138325540, 1566724819,\n",
              "        3146312914, 3262098346, 1400757929, 3821885720,  356740291,\n",
              "        4236900846, 3962771215, 3383537419, 3432281817, 3700484231,\n",
              "        1124512300, 4040103150, 2152814065,  357241942, 3507144572,\n",
              "        3156778000, 4029389048, 1495464238, 2710816120,  618937484,\n",
              "         923913256, 3233161411, 3113338135, 2380534800, 2989134055,\n",
              "         792458413, 2073679910, 2733527896, 1078384210, 2832175364,\n",
              "         501385130, 1554930792, 2339252603,  535487294, 2983664186,\n",
              "         924228889, 2127502206, 2847205678,  836935943, 1902192892,\n",
              "        4094716961, 3296730761, 2307406435,  281523156,  728701372,\n",
              "        3943302480,  183005637, 2660706047, 2320033913, 2011717602,\n",
              "         219970222,  890345073, 2479236311,  653839655,   38538414,\n",
              "        3266308455, 3726363269, 1256762826,  712114913, 3499059198,\n",
              "        2847394904, 3246075282, 1299462737,  830090526,  369065487,\n",
              "        3899451086, 1825910875, 2697294244, 2553197317, 2501134241,\n",
              "         930821716, 2841281141, 3920808923, 3209045349, 3381621736,\n",
              "        2145077949, 1958091404,  371971179, 3064957112, 3151429184,\n",
              "        2833651995, 1089438243, 2146134351, 1426568997, 3528669710,\n",
              "        1043897757, 3052263589, 3205925012, 4076215371, 2622476950,\n",
              "        2385717100, 2179892838, 3820135605, 1574628644,  177604240,\n",
              "        1712062317, 1192081671, 1107476027,  837376039, 2818244460,\n",
              "        1382379731, 2749207910, 2644203474, 1508860349, 3006844699,\n",
              "        3157252375, 3789683778, 1985542020, 2309789126, 1624089624,\n",
              "        3660683301, 1432444043, 1172735898, 3271587635,  841387671,\n",
              "        3614623669, 3002115850, 1078807738, 1095345284, 1707086713,\n",
              "        4263485053,  445506874, 3148772337, 2716917408, 3836812085,\n",
              "        1026228926,  491069724, 3983218285, 2410582206, 3821759029,\n",
              "        3789305873, 1223256738, 1677180485, 1481771733, 1670286271,\n",
              "        2852111711, 1628943665, 2289772949, 3483580787, 2129860019,\n",
              "        3955695109,   28974017, 2289227173, 1725243773,  483357125,\n",
              "         111587742,  347631238, 1805029491,  839978009,  339030914,\n",
              "        2442782449, 1701726526, 1481742442, 3703534067, 3796147861,\n",
              "         235078546, 3195450129, 1420184214,  998981944,  163541155,\n",
              "        2087693215, 3827554748, 3003331872, 1967967170,  160190917,\n",
              "         544473278, 3884602428, 4180513186, 1603446876, 2191744556,\n",
              "        1938251010,  291242497, 1764195107, 4076051069, 3860380798,\n",
              "         806452940, 2631256196,  949838208, 4096577802, 1519225265,\n",
              "        2296800559, 1015848400, 2864792481,   88004533,  195132439,\n",
              "         966918321, 1451347413, 2322994051, 3585658769, 1771598947,\n",
              "        3308395968,  950148946, 3846061568,  564475171, 1345892193,\n",
              "        2439581032, 2907206869, 1297626422, 3779454571,  818255727,\n",
              "         705738065, 3915384184, 4133726754, 2724859327, 3773743817,\n",
              "         326325901, 2766390048, 2562130418, 1885210076, 2622324981,\n",
              "        1727396790, 1742653294, 3133131942, 3790857080,  197042473,\n",
              "        2868410679, 1122976862, 2264474389, 3607393378,  744386048,\n",
              "        3122128592, 1101489146, 4064675687, 2818166901, 2282076661,\n",
              "         370818870, 3053423257, 2272652338, 4077081984, 4284213290,\n",
              "        1728304803, 3902867896, 1643530236,  306212760,  144705843,\n",
              "         498541197, 3103269575, 4116304893, 1646288275, 2110757680,\n",
              "        4092919505, 3390929578, 1828116798, 1847914177, 1156754878,\n",
              "        2985404552, 3970881126, 3035874635, 2189824678, 2637114092,\n",
              "        2588332748, 3917818803, 3302695646, 1758418726, 1934759438,\n",
              "        3871576937, 1360769189, 1051808374, 1881390541,  757367126,\n",
              "        3253778407, 1685049720,  805311189,  934898036,   95682794,\n",
              "        2052240235, 3475933669, 2213474191, 3341273357, 2443286051,\n",
              "        4272536794,  696819230,  878775027, 3332634155, 3405126958,\n",
              "        2824772573,   95284505, 3040640920, 2412859827, 2959515765,\n",
              "        1764792340, 1504924482, 2116910326, 2293943003, 3199262907,\n",
              "        1443740894, 3900566588,  343066614, 1927475335,  249220892,\n",
              "        2920636502, 3593328327, 2648828502, 1678096082], dtype=uint32),\n",
              " 6,\n",
              " 0,\n",
              " 0.0)"
            ]
          },
          "metadata": {},
          "execution_count": 11
        }
      ]
    },
    {
      "cell_type": "code",
      "source": [
        "for i in range(311):\n",
        "  _ = np.random.uniform()\n",
        "rng_state = np.random.get_state(); rng_state"
      ],
      "metadata": {
        "colab": {
          "base_uri": "https://localhost:8080/"
        },
        "id": "M0cS3-4chEut",
        "outputId": "ab4fc6a5-2028-4aa7-924e-68b39448de70"
      },
      "execution_count": null,
      "outputs": [
        {
          "output_type": "execute_result",
          "data": {
            "text/plain": [
              "('MT19937',\n",
              " array([1499117434, 2949980591, 2242547484, 1470907986,   68004624,\n",
              "         613504879, 2170701638, 3606168244, 1313189820, 2904302179,\n",
              "        3340054280, 2800779156, 3718152353, 1082918459, 1748036786,\n",
              "        3125556887, 1246967947, 2050301915, 3440863170, 2306625137,\n",
              "        2391836667, 1253663658, 2419038162, 3499839328, 3576356820,\n",
              "        3828856986,  723946277, 1516277410, 1749873187, 2585175776,\n",
              "        2103116091, 3761404950, 2177145536, 2190050649, 2604636580,\n",
              "        1049507822, 3538272245, 2566586914, 3538170909, 4282737256,\n",
              "        3260797503, 2387454175, 2226689230, 2256270485,  436199026,\n",
              "        1447928333, 1300475185, 3910190296, 2621047601, 2432253395,\n",
              "        3548512997, 3038311477, 3870448599, 4184179771,  331186464,\n",
              "        1513235983, 1123184249, 1412176674,  974731669, 1184859182,\n",
              "        3903198916, 1010728009, 1157972564, 1456817460, 4280740152,\n",
              "        3287444695, 3162962129, 2065442163,  702491398, 2129714181,\n",
              "        1271816637, 1310830189, 1626731654, 1866514111, 1145033966,\n",
              "        2096979273, 2857723036, 2877285051, 1233691756, 3406459472,\n",
              "        2679202709, 2261680737, 2760540573, 3132376759, 2074456028,\n",
              "        3178098775, 1678464938, 3178820511,  305433718, 1225231537,\n",
              "        3156384120, 3587239912, 3478639458, 2028713297, 4156933370,\n",
              "         866469559, 3703313170,  625989901, 1353127228,  729767191,\n",
              "        4239080664,  641370747, 1955789567, 1184483474, 3615076882,\n",
              "        1341804132, 4128348873,  476722230, 3105112074, 2941286171,\n",
              "        1022165683, 2123179945, 3314940402, 1416016978,  182868013,\n",
              "         212411023, 2656030053, 3779055339, 1701545199, 3674791907,\n",
              "        1610475395, 4164729361, 3427598377, 1307908931, 3358502771,\n",
              "         486424629, 3160463068,     530473, 1969914083, 3170240630,\n",
              "        2476207192,  970601343, 3050844754, 3669355176, 1340421889,\n",
              "        1617766323,  383602626, 1129117316,  918572908, 3695476486,\n",
              "        1764430370, 2967235222, 3067123020, 3308359510,  886384482,\n",
              "        1779812486,  134534642,  249966516, 1332585561, 3554068711,\n",
              "        2291677649,  745254821, 2206408749, 3127595267, 2427295058,\n",
              "        2080674446, 3966791228, 3103784816, 3497882275, 1573818670,\n",
              "        3427455398,  457267352, 2529982677, 2344224288, 3690569723,\n",
              "         248871130, 2179310377,  865022852, 1702071740, 4288128097,\n",
              "        1599397573, 3506259146,  417400689,  979397279, 2329289638,\n",
              "        4250587448, 2344846879,  680016533, 1695335972, 1029810276,\n",
              "         539516489,  308097557, 3619920399, 2136876981, 3188293348,\n",
              "        2584894221,   28295363, 3838647908, 2639611160, 4292020015,\n",
              "         732968695,  400393115, 1281778179, 4027605317, 1571824415,\n",
              "        2427335146, 3951797079, 4109264582, 2994313380,  439622896,\n",
              "         902291932,  963577727, 1534876665, 3469900053,  582883584,\n",
              "        3933453152, 1367296016, 3323503576, 3479007798, 3508689472,\n",
              "        3981387120, 2284621917,  644918556, 3126057051, 3371160597,\n",
              "         360961626, 2318659802, 2659611811, 1109993553,  976968874,\n",
              "        2599208784,  476384943, 2152559827, 4228879964, 3340725858,\n",
              "        3377206995,  611218954, 3758666271,  204230618, 2720785399,\n",
              "        4240723682,  250681258, 3323652135, 3522391030, 1679469787,\n",
              "        1822904798, 1634199872, 2008317582, 1454968079, 3626508702,\n",
              "        3467404574, 2237369830, 1746454442,  210635819,  730534995,\n",
              "        2970064151, 4032911749, 2365458027,  156048282, 3086236733,\n",
              "        3622099357, 1881089091, 3160142011, 2517013923, 4259688426,\n",
              "        1985910537,  478356813, 3841516698,  564566346, 1245013975,\n",
              "         562343064,  147297885, 2667097084,   33053774,  289997958,\n",
              "        4031215483,  307664953,  338764258,  216795544, 1176428186,\n",
              "        1722385594, 4109337023,  902037905, 3282686150,  866315897,\n",
              "        1566946094, 3436757989, 4073168121, 3257551583, 3729158933,\n",
              "        1341787975, 2230959320, 3312211250, 1110585395,  549424380,\n",
              "         266278641, 2661082464,  918562329, 1832478886,  309640646,\n",
              "         985228208, 1030556840, 3713537458,  294610547, 3230155546,\n",
              "         342999365, 1650341511,  646766830, 2190852369, 4013264374,\n",
              "        2999309863, 3512212270, 4199392792,  559679946, 3722272229,\n",
              "        1407612141, 1792120543, 4122566255, 2614747898, 2411819608,\n",
              "         461168343, 3702772741, 1220049823, 3578175138, 3852491473,\n",
              "         749653032, 3297521103, 2283357169, 4012942068, 1761213419,\n",
              "        4113654008, 3548247038, 2450573353,  913028441,  941292270,\n",
              "        1062104348, 3559036436, 3098831818, 2441286605, 1767279766,\n",
              "         665722183,  667938201, 2115822312,  632855671,  573491393,\n",
              "        1443199826, 1385074753, 3283060992, 2311971637, 2752946404,\n",
              "        1812020773, 3552985610, 1175234724, 3066736347, 3207299299,\n",
              "         494815379, 3080299380, 1328809279, 2857280599, 3620070973,\n",
              "        4104567805,  233766183, 1510754877, 2088578672, 3466416800,\n",
              "        1218866416, 2910921178, 4088694641,  767425533, 4213797255,\n",
              "        4108502172, 3545928547,  798512684,  238469855, 2177829079,\n",
              "         161989331, 3365800849, 2832396926, 2288844520,  365958019,\n",
              "        1048129741, 3910765196,  578163052,  498293036,  996355356,\n",
              "        2467376228, 1167452999, 1421147442, 1470070868, 2232229242,\n",
              "         971713252,    4601830, 3060810946, 3981863019,   10533660,\n",
              "         645408574,  951764939, 1081827337,  856091495, 3256327929,\n",
              "        3943141609,  608907788,  375942741,  303213809,  129581283,\n",
              "        2316412238, 4025818291, 2320185240,   58709957, 1130142811,\n",
              "        3083180922, 1728575124, 1005679445, 4010033131, 3463261972,\n",
              "        1599589218, 2944201358,  998218261, 1337347381,  448276061,\n",
              "        2250331771,  418675356,  697905216,  679894468,  584704117,\n",
              "         514529685, 2690138981, 3418589197, 1509583568,  192934325,\n",
              "        2967937654, 3043082650, 4265822072, 4005601311, 1591945647,\n",
              "         150467832, 2721968946, 3023830288,  714242249, 2873512783,\n",
              "        3745297318, 1819521769,  529316705, 3521879874,   17301388,\n",
              "        3215821847, 2853052802, 3919146899, 4165616209, 2455818705,\n",
              "        1240188609, 3927742424, 2903203100, 1244137294,  741844902,\n",
              "         458324948, 1511914231, 3125286162, 3079518156,  642386738,\n",
              "        2974377153, 1136715589, 2578741635, 3476966223, 3197973312,\n",
              "          42917716,  227989534, 3138586301, 3860599407,  805061872,\n",
              "        3045580455, 3437871910, 3649496171, 3383237696, 4198706430,\n",
              "        3208275784, 1159529867,  812992888, 1663743968, 3304323191,\n",
              "        3579556116, 3065695838, 1533392246, 1728991672, 2410503844,\n",
              "          51457241,  456639707, 1474621262, 2047196546,  765440796,\n",
              "        3836850492, 3519898591, 3238633263, 4104772312, 2751030611,\n",
              "        2811588637,  543572636, 1010895876, 2500894419,  969395948,\n",
              "         870953104, 1221107222, 2330006170, 2409103364,   67838397,\n",
              "        1059660678,  981997131,  157339796, 4122881705, 1275571984,\n",
              "        1376739609, 2654593847, 4245999311, 3218382298, 2865701791,\n",
              "        3426791069, 2181612501, 1978427330, 1891092703, 1477957498,\n",
              "         477396699, 2899811827, 3561541108,   38071220, 3004798622,\n",
              "        3748740755, 2387018968, 3379410087, 3500770886, 4290845522,\n",
              "        1306421722, 4061617178, 3719031563, 3544895976,  775448154,\n",
              "        1295600548, 2308544365,  460297677,  271736902, 1984777327,\n",
              "         367790966, 2800519412, 2614870765, 2209236836,  621299190,\n",
              "        2309489514, 3281711777, 1666440249, 1268622496, 1002604100,\n",
              "        3869900053, 4177509506, 1549221268,  408669572,   74305461,\n",
              "        2387017947, 4069382846, 2662554313, 2236794110, 2400926529,\n",
              "        1454900388, 2553366914, 4122621433,  153680433, 4089017425,\n",
              "         309618270,  720140943, 1580185479, 1482824076, 2492840294,\n",
              "         300423339, 1389751103, 1596279966, 3486917639, 1417455769,\n",
              "         213467785, 1202911685, 2216271923, 3978399634, 3875432211,\n",
              "        3552842638, 3377523836, 3009711916, 2514548139, 1473040763,\n",
              "        3692679012,  347386951, 3051729582, 1132030033,  388965211,\n",
              "        2444692342, 2901459919, 1019332451, 2485660381, 1507720730,\n",
              "        3694695280, 3832666300, 1442556581, 3318272968, 2523446528,\n",
              "        2080451171,   13087074,  310081129, 3393457124,  217258772,\n",
              "         921897669, 3442463899, 3303171220,  952234306, 1562562305,\n",
              "        1232541219, 3092977850,  692610990,  552527312, 2576547843,\n",
              "        2353120775, 2677220022, 3876270818, 3246249731, 3269986504,\n",
              "        3247423946, 1068893543, 3140350604, 4276750153,  729661030,\n",
              "         121118073, 2284780802, 1266571381,  589714818,   23256702,\n",
              "        3758946125, 1229567432, 4162027047, 3277342478], dtype=uint32),\n",
              " 4,\n",
              " 0,\n",
              " 0.0)"
            ]
          },
          "metadata": {},
          "execution_count": 12
        }
      ]
    },
    {
      "cell_type": "code",
      "source": [
        "_ = np.random.uniform()\n",
        "rng_state = np.random.get_state(); rng_state"
      ],
      "metadata": {
        "colab": {
          "base_uri": "https://localhost:8080/"
        },
        "id": "RmPeJlWLhQHe",
        "outputId": "d1fc0459-d24d-4486-bedd-8a48e3f2fcb5"
      },
      "execution_count": null,
      "outputs": [
        {
          "output_type": "execute_result",
          "data": {
            "text/plain": [
              "('MT19937',\n",
              " array([1499117434, 2949980591, 2242547484, 1470907986,   68004624,\n",
              "         613504879, 2170701638, 3606168244, 1313189820, 2904302179,\n",
              "        3340054280, 2800779156, 3718152353, 1082918459, 1748036786,\n",
              "        3125556887, 1246967947, 2050301915, 3440863170, 2306625137,\n",
              "        2391836667, 1253663658, 2419038162, 3499839328, 3576356820,\n",
              "        3828856986,  723946277, 1516277410, 1749873187, 2585175776,\n",
              "        2103116091, 3761404950, 2177145536, 2190050649, 2604636580,\n",
              "        1049507822, 3538272245, 2566586914, 3538170909, 4282737256,\n",
              "        3260797503, 2387454175, 2226689230, 2256270485,  436199026,\n",
              "        1447928333, 1300475185, 3910190296, 2621047601, 2432253395,\n",
              "        3548512997, 3038311477, 3870448599, 4184179771,  331186464,\n",
              "        1513235983, 1123184249, 1412176674,  974731669, 1184859182,\n",
              "        3903198916, 1010728009, 1157972564, 1456817460, 4280740152,\n",
              "        3287444695, 3162962129, 2065442163,  702491398, 2129714181,\n",
              "        1271816637, 1310830189, 1626731654, 1866514111, 1145033966,\n",
              "        2096979273, 2857723036, 2877285051, 1233691756, 3406459472,\n",
              "        2679202709, 2261680737, 2760540573, 3132376759, 2074456028,\n",
              "        3178098775, 1678464938, 3178820511,  305433718, 1225231537,\n",
              "        3156384120, 3587239912, 3478639458, 2028713297, 4156933370,\n",
              "         866469559, 3703313170,  625989901, 1353127228,  729767191,\n",
              "        4239080664,  641370747, 1955789567, 1184483474, 3615076882,\n",
              "        1341804132, 4128348873,  476722230, 3105112074, 2941286171,\n",
              "        1022165683, 2123179945, 3314940402, 1416016978,  182868013,\n",
              "         212411023, 2656030053, 3779055339, 1701545199, 3674791907,\n",
              "        1610475395, 4164729361, 3427598377, 1307908931, 3358502771,\n",
              "         486424629, 3160463068,     530473, 1969914083, 3170240630,\n",
              "        2476207192,  970601343, 3050844754, 3669355176, 1340421889,\n",
              "        1617766323,  383602626, 1129117316,  918572908, 3695476486,\n",
              "        1764430370, 2967235222, 3067123020, 3308359510,  886384482,\n",
              "        1779812486,  134534642,  249966516, 1332585561, 3554068711,\n",
              "        2291677649,  745254821, 2206408749, 3127595267, 2427295058,\n",
              "        2080674446, 3966791228, 3103784816, 3497882275, 1573818670,\n",
              "        3427455398,  457267352, 2529982677, 2344224288, 3690569723,\n",
              "         248871130, 2179310377,  865022852, 1702071740, 4288128097,\n",
              "        1599397573, 3506259146,  417400689,  979397279, 2329289638,\n",
              "        4250587448, 2344846879,  680016533, 1695335972, 1029810276,\n",
              "         539516489,  308097557, 3619920399, 2136876981, 3188293348,\n",
              "        2584894221,   28295363, 3838647908, 2639611160, 4292020015,\n",
              "         732968695,  400393115, 1281778179, 4027605317, 1571824415,\n",
              "        2427335146, 3951797079, 4109264582, 2994313380,  439622896,\n",
              "         902291932,  963577727, 1534876665, 3469900053,  582883584,\n",
              "        3933453152, 1367296016, 3323503576, 3479007798, 3508689472,\n",
              "        3981387120, 2284621917,  644918556, 3126057051, 3371160597,\n",
              "         360961626, 2318659802, 2659611811, 1109993553,  976968874,\n",
              "        2599208784,  476384943, 2152559827, 4228879964, 3340725858,\n",
              "        3377206995,  611218954, 3758666271,  204230618, 2720785399,\n",
              "        4240723682,  250681258, 3323652135, 3522391030, 1679469787,\n",
              "        1822904798, 1634199872, 2008317582, 1454968079, 3626508702,\n",
              "        3467404574, 2237369830, 1746454442,  210635819,  730534995,\n",
              "        2970064151, 4032911749, 2365458027,  156048282, 3086236733,\n",
              "        3622099357, 1881089091, 3160142011, 2517013923, 4259688426,\n",
              "        1985910537,  478356813, 3841516698,  564566346, 1245013975,\n",
              "         562343064,  147297885, 2667097084,   33053774,  289997958,\n",
              "        4031215483,  307664953,  338764258,  216795544, 1176428186,\n",
              "        1722385594, 4109337023,  902037905, 3282686150,  866315897,\n",
              "        1566946094, 3436757989, 4073168121, 3257551583, 3729158933,\n",
              "        1341787975, 2230959320, 3312211250, 1110585395,  549424380,\n",
              "         266278641, 2661082464,  918562329, 1832478886,  309640646,\n",
              "         985228208, 1030556840, 3713537458,  294610547, 3230155546,\n",
              "         342999365, 1650341511,  646766830, 2190852369, 4013264374,\n",
              "        2999309863, 3512212270, 4199392792,  559679946, 3722272229,\n",
              "        1407612141, 1792120543, 4122566255, 2614747898, 2411819608,\n",
              "         461168343, 3702772741, 1220049823, 3578175138, 3852491473,\n",
              "         749653032, 3297521103, 2283357169, 4012942068, 1761213419,\n",
              "        4113654008, 3548247038, 2450573353,  913028441,  941292270,\n",
              "        1062104348, 3559036436, 3098831818, 2441286605, 1767279766,\n",
              "         665722183,  667938201, 2115822312,  632855671,  573491393,\n",
              "        1443199826, 1385074753, 3283060992, 2311971637, 2752946404,\n",
              "        1812020773, 3552985610, 1175234724, 3066736347, 3207299299,\n",
              "         494815379, 3080299380, 1328809279, 2857280599, 3620070973,\n",
              "        4104567805,  233766183, 1510754877, 2088578672, 3466416800,\n",
              "        1218866416, 2910921178, 4088694641,  767425533, 4213797255,\n",
              "        4108502172, 3545928547,  798512684,  238469855, 2177829079,\n",
              "         161989331, 3365800849, 2832396926, 2288844520,  365958019,\n",
              "        1048129741, 3910765196,  578163052,  498293036,  996355356,\n",
              "        2467376228, 1167452999, 1421147442, 1470070868, 2232229242,\n",
              "         971713252,    4601830, 3060810946, 3981863019,   10533660,\n",
              "         645408574,  951764939, 1081827337,  856091495, 3256327929,\n",
              "        3943141609,  608907788,  375942741,  303213809,  129581283,\n",
              "        2316412238, 4025818291, 2320185240,   58709957, 1130142811,\n",
              "        3083180922, 1728575124, 1005679445, 4010033131, 3463261972,\n",
              "        1599589218, 2944201358,  998218261, 1337347381,  448276061,\n",
              "        2250331771,  418675356,  697905216,  679894468,  584704117,\n",
              "         514529685, 2690138981, 3418589197, 1509583568,  192934325,\n",
              "        2967937654, 3043082650, 4265822072, 4005601311, 1591945647,\n",
              "         150467832, 2721968946, 3023830288,  714242249, 2873512783,\n",
              "        3745297318, 1819521769,  529316705, 3521879874,   17301388,\n",
              "        3215821847, 2853052802, 3919146899, 4165616209, 2455818705,\n",
              "        1240188609, 3927742424, 2903203100, 1244137294,  741844902,\n",
              "         458324948, 1511914231, 3125286162, 3079518156,  642386738,\n",
              "        2974377153, 1136715589, 2578741635, 3476966223, 3197973312,\n",
              "          42917716,  227989534, 3138586301, 3860599407,  805061872,\n",
              "        3045580455, 3437871910, 3649496171, 3383237696, 4198706430,\n",
              "        3208275784, 1159529867,  812992888, 1663743968, 3304323191,\n",
              "        3579556116, 3065695838, 1533392246, 1728991672, 2410503844,\n",
              "          51457241,  456639707, 1474621262, 2047196546,  765440796,\n",
              "        3836850492, 3519898591, 3238633263, 4104772312, 2751030611,\n",
              "        2811588637,  543572636, 1010895876, 2500894419,  969395948,\n",
              "         870953104, 1221107222, 2330006170, 2409103364,   67838397,\n",
              "        1059660678,  981997131,  157339796, 4122881705, 1275571984,\n",
              "        1376739609, 2654593847, 4245999311, 3218382298, 2865701791,\n",
              "        3426791069, 2181612501, 1978427330, 1891092703, 1477957498,\n",
              "         477396699, 2899811827, 3561541108,   38071220, 3004798622,\n",
              "        3748740755, 2387018968, 3379410087, 3500770886, 4290845522,\n",
              "        1306421722, 4061617178, 3719031563, 3544895976,  775448154,\n",
              "        1295600548, 2308544365,  460297677,  271736902, 1984777327,\n",
              "         367790966, 2800519412, 2614870765, 2209236836,  621299190,\n",
              "        2309489514, 3281711777, 1666440249, 1268622496, 1002604100,\n",
              "        3869900053, 4177509506, 1549221268,  408669572,   74305461,\n",
              "        2387017947, 4069382846, 2662554313, 2236794110, 2400926529,\n",
              "        1454900388, 2553366914, 4122621433,  153680433, 4089017425,\n",
              "         309618270,  720140943, 1580185479, 1482824076, 2492840294,\n",
              "         300423339, 1389751103, 1596279966, 3486917639, 1417455769,\n",
              "         213467785, 1202911685, 2216271923, 3978399634, 3875432211,\n",
              "        3552842638, 3377523836, 3009711916, 2514548139, 1473040763,\n",
              "        3692679012,  347386951, 3051729582, 1132030033,  388965211,\n",
              "        2444692342, 2901459919, 1019332451, 2485660381, 1507720730,\n",
              "        3694695280, 3832666300, 1442556581, 3318272968, 2523446528,\n",
              "        2080451171,   13087074,  310081129, 3393457124,  217258772,\n",
              "         921897669, 3442463899, 3303171220,  952234306, 1562562305,\n",
              "        1232541219, 3092977850,  692610990,  552527312, 2576547843,\n",
              "        2353120775, 2677220022, 3876270818, 3246249731, 3269986504,\n",
              "        3247423946, 1068893543, 3140350604, 4276750153,  729661030,\n",
              "         121118073, 2284780802, 1266571381,  589714818,   23256702,\n",
              "        3758946125, 1229567432, 4162027047, 3277342478], dtype=uint32),\n",
              " 6,\n",
              " 0,\n",
              " 0.0)"
            ]
          },
          "metadata": {},
          "execution_count": 13
        }
      ]
    },
    {
      "cell_type": "markdown",
      "source": [
        "### JAX's PRNG\n",
        "\n",
        "JAX's PRNG uses a modern Threefry counter-based PRNG that's splittable. It fork the PRNG state to generate new PRNGs with parallel stochastic generation."
      ],
      "metadata": {
        "id": "J0XiJJRAhx7P"
      }
    },
    {
      "cell_type": "code",
      "source": [
        "from jax import random\n",
        "key = random.PRNGKey(0)\n",
        "key"
      ],
      "metadata": {
        "colab": {
          "base_uri": "https://localhost:8080/"
        },
        "id": "MLCuX-iLhWsy",
        "outputId": "0413fce7-8acd-4f33-a0dd-fe6a908e68ec"
      },
      "execution_count": null,
      "outputs": [
        {
          "output_type": "execute_result",
          "data": {
            "text/plain": [
              "Array([0, 0], dtype=uint32)"
            ]
          },
          "metadata": {},
          "execution_count": 18
        }
      ]
    },
    {
      "cell_type": "code",
      "source": [
        "print(key)\n",
        "print(random.normal(key, shape=(1,)))\n",
        "print(random.normal(key, shape=(1,))) # Don't repeat"
      ],
      "metadata": {
        "colab": {
          "base_uri": "https://localhost:8080/"
        },
        "id": "Hmn4Tj87iJR2",
        "outputId": "c8828cf4-50bf-46bc-a071-06b6605a184e"
      },
      "execution_count": null,
      "outputs": [
        {
          "output_type": "stream",
          "name": "stdout",
          "text": [
            "[0 0]\n",
            "[-0.20584226]\n",
            "[-0.20584226]\n"
          ]
        }
      ]
    },
    {
      "cell_type": "code",
      "source": [
        "key, subkey = random.split(key); print(key)\n",
        "print(random.normal(key, shape=(1,)))"
      ],
      "metadata": {
        "colab": {
          "base_uri": "https://localhost:8080/"
        },
        "id": "pXvY8Cq4iOkw",
        "outputId": "11dfc34e-930e-49bb-f33f-a628f43a7d51"
      },
      "execution_count": null,
      "outputs": [
        {
          "output_type": "stream",
          "name": "stdout",
          "text": [
            "[4146024105  967050713]\n",
            "[0.14389051]\n"
          ]
        }
      ]
    },
    {
      "cell_type": "markdown",
      "source": [
        "### Control flow"
      ],
      "metadata": {
        "id": "0qPOb5uHi20o"
      }
    },
    {
      "cell_type": "code",
      "source": [
        "def f(x):\n",
        "  if x < 3:\n",
        "    return 3 * x ** 2\n",
        "  else:\n",
        "    return -4 * x\n",
        "\n",
        "print(grad(f)(2.))\n",
        "print(grad(f)(4.))"
      ],
      "metadata": {
        "colab": {
          "base_uri": "https://localhost:8080/"
        },
        "id": "F-2fbIdCiYyu",
        "outputId": "0a2eede9-c2b8-4dd8-a173-5208e5a855de"
      },
      "execution_count": null,
      "outputs": [
        {
          "output_type": "stream",
          "name": "stdout",
          "text": [
            "12.0\n",
            "-4.0\n"
          ]
        }
      ]
    },
    {
      "cell_type": "markdown",
      "source": [
        "#### `jit` constraints are still confusing"
      ],
      "metadata": {
        "id": "ExruX7PakAfh"
      }
    },
    {
      "cell_type": "code",
      "source": [
        "@jit\n",
        "def f(x):\n",
        "  for i in range(3):\n",
        "    print(x) # 6, 12, 24\n",
        "    x = 2 * x\n",
        "  return x\n",
        "\n",
        "print(f(3)) # I thought jit functions shouldn't change the variables bc it's functional?"
      ],
      "metadata": {
        "colab": {
          "base_uri": "https://localhost:8080/"
        },
        "id": "FmNRcqjkjAv-",
        "outputId": "1a6e2171-3fec-4008-d3ee-a629f214ff0b"
      },
      "execution_count": null,
      "outputs": [
        {
          "output_type": "stream",
          "name": "stdout",
          "text": [
            "Traced<ShapedArray(int32[], weak_type=True)>with<DynamicJaxprTrace(level=1/0)>\n",
            "Traced<ShapedArray(int32[], weak_type=True)>with<DynamicJaxprTrace(level=1/0)>\n",
            "Traced<ShapedArray(int32[], weak_type=True)>with<DynamicJaxprTrace(level=1/0)>\n",
            "24\n"
          ]
        }
      ]
    },
    {
      "cell_type": "code",
      "source": [
        "@jit\n",
        "def g(x):\n",
        "  y = 0.\n",
        "  for i in range(x.shape[0]):\n",
        "    y = y + x[i]\n",
        "  return y\n",
        "\n",
        "print(g(jnp.array([1.,2.,3.])))"
      ],
      "metadata": {
        "colab": {
          "base_uri": "https://localhost:8080/"
        },
        "id": "v3KjyReGjLOQ",
        "outputId": "9ed7f5bb-9a6a-480f-9756-7bc46981f849"
      },
      "execution_count": null,
      "outputs": [
        {
          "output_type": "stream",
          "name": "stdout",
          "text": [
            "6.0\n"
          ]
        }
      ]
    },
    {
      "cell_type": "code",
      "source": [
        "@jit\n",
        "def f(x):\n",
        "  if x < 3:\n",
        "    return 3 * x ** 2\n",
        "  else:\n",
        "    return -4 * x\n",
        "\n",
        "f(2)"
      ],
      "metadata": {
        "colab": {
          "base_uri": "https://localhost:8080/",
          "height": 471
        },
        "id": "lquQyc18kNLB",
        "outputId": "f5d7ecff-c337-4ea1-dbb8-571c1cd101f3"
      },
      "execution_count": null,
      "outputs": [
        {
          "output_type": "error",
          "ename": "TracerBoolConversionError",
          "evalue": "Attempted boolean conversion of traced array with shape bool[]..\nThe error occurred while tracing the function f at <ipython-input-25-504f2c15c277>:1 for jit. This concrete value was not available in Python because it depends on the value of the argument x.\nSee https://jax.readthedocs.io/en/latest/errors.html#jax.errors.TracerBoolConversionError",
          "traceback": [
            "\u001b[0;31m---------------------------------------------------------------------------\u001b[0m",
            "\u001b[0;31mTracerBoolConversionError\u001b[0m                 Traceback (most recent call last)",
            "\u001b[0;32m<ipython-input-25-504f2c15c277>\u001b[0m in \u001b[0;36m<cell line: 8>\u001b[0;34m()\u001b[0m\n\u001b[1;32m      6\u001b[0m     \u001b[0;32mreturn\u001b[0m \u001b[0;34m-\u001b[0m\u001b[0;36m4\u001b[0m \u001b[0;34m*\u001b[0m \u001b[0mx\u001b[0m\u001b[0;34m\u001b[0m\u001b[0;34m\u001b[0m\u001b[0m\n\u001b[1;32m      7\u001b[0m \u001b[0;34m\u001b[0m\u001b[0m\n\u001b[0;32m----> 8\u001b[0;31m \u001b[0mf\u001b[0m\u001b[0;34m(\u001b[0m\u001b[0;36m2\u001b[0m\u001b[0;34m)\u001b[0m\u001b[0;34m\u001b[0m\u001b[0;34m\u001b[0m\u001b[0m\n\u001b[0m",
            "    \u001b[0;31m[... skipping hidden 12 frame]\u001b[0m\n",
            "\u001b[0;32m<ipython-input-25-504f2c15c277>\u001b[0m in \u001b[0;36mf\u001b[0;34m(x)\u001b[0m\n\u001b[1;32m      1\u001b[0m \u001b[0;34m@\u001b[0m\u001b[0mjit\u001b[0m\u001b[0;34m\u001b[0m\u001b[0;34m\u001b[0m\u001b[0m\n\u001b[1;32m      2\u001b[0m \u001b[0;32mdef\u001b[0m \u001b[0mf\u001b[0m\u001b[0;34m(\u001b[0m\u001b[0mx\u001b[0m\u001b[0;34m)\u001b[0m\u001b[0;34m:\u001b[0m\u001b[0;34m\u001b[0m\u001b[0;34m\u001b[0m\u001b[0m\n\u001b[0;32m----> 3\u001b[0;31m   \u001b[0;32mif\u001b[0m \u001b[0mx\u001b[0m \u001b[0;34m<\u001b[0m \u001b[0;36m3\u001b[0m\u001b[0;34m:\u001b[0m\u001b[0;34m\u001b[0m\u001b[0;34m\u001b[0m\u001b[0m\n\u001b[0m\u001b[1;32m      4\u001b[0m     \u001b[0;32mreturn\u001b[0m \u001b[0;36m3\u001b[0m \u001b[0;34m*\u001b[0m \u001b[0mx\u001b[0m \u001b[0;34m**\u001b[0m \u001b[0;36m2\u001b[0m\u001b[0;34m\u001b[0m\u001b[0;34m\u001b[0m\u001b[0m\n\u001b[1;32m      5\u001b[0m   \u001b[0;32melse\u001b[0m\u001b[0;34m:\u001b[0m\u001b[0;34m\u001b[0m\u001b[0;34m\u001b[0m\u001b[0m\n",
            "    \u001b[0;31m[... skipping hidden 1 frame]\u001b[0m\n",
            "\u001b[0;32m/usr/local/lib/python3.10/dist-packages/jax/_src/core.py\u001b[0m in \u001b[0;36merror\u001b[0;34m(self, arg)\u001b[0m\n\u001b[1;32m   1508\u001b[0m   \u001b[0;32mif\u001b[0m \u001b[0mfun\u001b[0m \u001b[0;32mis\u001b[0m \u001b[0mbool\u001b[0m\u001b[0;34m:\u001b[0m\u001b[0;34m\u001b[0m\u001b[0;34m\u001b[0m\u001b[0m\n\u001b[1;32m   1509\u001b[0m     \u001b[0;32mdef\u001b[0m \u001b[0merror\u001b[0m\u001b[0;34m(\u001b[0m\u001b[0mself\u001b[0m\u001b[0;34m,\u001b[0m \u001b[0marg\u001b[0m\u001b[0;34m)\u001b[0m\u001b[0;34m:\u001b[0m\u001b[0;34m\u001b[0m\u001b[0;34m\u001b[0m\u001b[0m\n\u001b[0;32m-> 1510\u001b[0;31m       \u001b[0;32mraise\u001b[0m \u001b[0mTracerBoolConversionError\u001b[0m\u001b[0;34m(\u001b[0m\u001b[0marg\u001b[0m\u001b[0;34m)\u001b[0m\u001b[0;34m\u001b[0m\u001b[0;34m\u001b[0m\u001b[0m\n\u001b[0m\u001b[1;32m   1511\u001b[0m   \u001b[0;32melif\u001b[0m \u001b[0mfun\u001b[0m \u001b[0;32min\u001b[0m \u001b[0;34m(\u001b[0m\u001b[0mhex\u001b[0m\u001b[0;34m,\u001b[0m \u001b[0moct\u001b[0m\u001b[0;34m,\u001b[0m \u001b[0moperator\u001b[0m\u001b[0;34m.\u001b[0m\u001b[0mindex\u001b[0m\u001b[0;34m)\u001b[0m\u001b[0;34m:\u001b[0m\u001b[0;34m\u001b[0m\u001b[0;34m\u001b[0m\u001b[0m\n\u001b[1;32m   1512\u001b[0m     \u001b[0;32mdef\u001b[0m \u001b[0merror\u001b[0m\u001b[0;34m(\u001b[0m\u001b[0mself\u001b[0m\u001b[0;34m,\u001b[0m \u001b[0marg\u001b[0m\u001b[0;34m)\u001b[0m\u001b[0;34m:\u001b[0m\u001b[0;34m\u001b[0m\u001b[0;34m\u001b[0m\u001b[0m\n",
            "\u001b[0;31mTracerBoolConversionError\u001b[0m: Attempted boolean conversion of traced array with shape bool[]..\nThe error occurred while tracing the function f at <ipython-input-25-504f2c15c277>:1 for jit. This concrete value was not available in Python because it depends on the value of the argument x.\nSee https://jax.readthedocs.io/en/latest/errors.html#jax.errors.TracerBoolConversionError"
          ]
        }
      ]
    },
    {
      "cell_type": "code",
      "source": [
        "def f(x):\n",
        "  if x < 3:\n",
        "    return 3 * x ** 2\n",
        "  else:\n",
        "    return -4 * x\n",
        "\n",
        "f = jit(f, static_argnums=(0,))\n",
        "f(2.) # what's the point of using jit in this case even though it works"
      ],
      "metadata": {
        "colab": {
          "base_uri": "https://localhost:8080/"
        },
        "id": "PGhMAkpQkRHW",
        "outputId": "be29eb79-2e29-41d7-a28b-c00fe316efde"
      },
      "execution_count": null,
      "outputs": [
        {
          "output_type": "execute_result",
          "data": {
            "text/plain": [
              "Array(12., dtype=float32, weak_type=True)"
            ]
          },
          "metadata": {},
          "execution_count": 26
        }
      ]
    },
    {
      "cell_type": "code",
      "source": [
        "def f(x,n):\n",
        "  y=0\n",
        "  for i in range(n):\n",
        "    y = y + x[i]\n",
        "  return y\n",
        "\n",
        "f = jit(f, static_argnums=(1,))\n",
        "f(jnp.array([2.,3.,4.]), 2)"
      ],
      "metadata": {
        "colab": {
          "base_uri": "https://localhost:8080/"
        },
        "id": "88VnbfUun5i7",
        "outputId": "476d70ce-2736-4f80-9c39-1ccd044765e2"
      },
      "execution_count": null,
      "outputs": [
        {
          "output_type": "execute_result",
          "data": {
            "text/plain": [
              "Array(5., dtype=float32)"
            ]
          },
          "metadata": {},
          "execution_count": 27
        }
      ]
    },
    {
      "cell_type": "markdown",
      "source": [
        "### `lax`\n"
      ],
      "metadata": {
        "id": "G_Ry-nj2pugX"
      }
    },
    {
      "cell_type": "code",
      "source": [
        "def cond(pred, true_fn, false_fn, operand):\n",
        "  if pred:\n",
        "    return true_fn(operand)\n",
        "  else:\n",
        "    return false_fn(operand)\n"
      ],
      "metadata": {
        "id": "Frn-ZcYNoZdt"
      },
      "execution_count": null,
      "outputs": []
    },
    {
      "cell_type": "code",
      "source": [
        "from jax import lax\n",
        "\n",
        "operand = jnp.array([0.])\n",
        "lax.cond(True, lambda x:x+1, lambda x:x-1, operand)"
      ],
      "metadata": {
        "colab": {
          "base_uri": "https://localhost:8080/"
        },
        "id": "ymuAq0yTqEZ4",
        "outputId": "81bc7c7c-292c-48d1-c1a8-90fb6fd4fd77"
      },
      "execution_count": null,
      "outputs": [
        {
          "output_type": "execute_result",
          "data": {
            "text/plain": [
              "Array([1.], dtype=float32)"
            ]
          },
          "metadata": {},
          "execution_count": 29
        }
      ]
    },
    {
      "cell_type": "code",
      "source": [
        "lax.cond(False, lambda x:x+1, lambda x:x-1, operand)"
      ],
      "metadata": {
        "colab": {
          "base_uri": "https://localhost:8080/"
        },
        "id": "qMeozoonqLag",
        "outputId": "880ddb1e-2cfa-4161-cffe-49f20468be17"
      },
      "execution_count": null,
      "outputs": [
        {
          "output_type": "execute_result",
          "data": {
            "text/plain": [
              "Array([-1.], dtype=float32)"
            ]
          },
          "metadata": {},
          "execution_count": 30
        }
      ]
    },
    {
      "cell_type": "markdown",
      "source": [
        "* `lax.select`\n",
        "* `lax.switch`\n",
        "* `lax.scan`\n",
        "* `jnp.where`\n",
        "* `jnp.piecewise`\n",
        "* `jnp.select`"
      ],
      "metadata": {
        "id": "7gii7l50qYA8"
      }
    },
    {
      "cell_type": "markdown",
      "source": [
        "### `while_loop`"
      ],
      "metadata": {
        "id": "W_9zk1gNqi79"
      }
    },
    {
      "cell_type": "code",
      "source": [
        "def while_loop(cond_fn, body_fn, init_val):\n",
        "  val = init_val\n",
        "  while cond_fn(val):\n",
        "    val = body_fn(val)\n",
        "  return val\n"
      ],
      "metadata": {
        "id": "mqSHwUHjqOq7"
      },
      "execution_count": null,
      "outputs": []
    },
    {
      "cell_type": "code",
      "source": [
        "init_val = 0"
      ],
      "metadata": {
        "id": "lAtUM5h9rSqn"
      },
      "execution_count": null,
      "outputs": []
    },
    {
      "cell_type": "code",
      "source": [
        "cond_fn = lambda x:x<10\n",
        "body_fn = lambda x:x+1\n",
        "lax.while_loop(cond_fn, body_fn, init_val)"
      ],
      "metadata": {
        "colab": {
          "base_uri": "https://localhost:8080/"
        },
        "id": "2oPwOzKdrTn7",
        "outputId": "18af2580-4c9d-4b5b-d29c-defd445681da"
      },
      "execution_count": null,
      "outputs": [
        {
          "output_type": "execute_result",
          "data": {
            "text/plain": [
              "Array(10, dtype=int32, weak_type=True)"
            ]
          },
          "metadata": {},
          "execution_count": 33
        }
      ]
    },
    {
      "cell_type": "markdown",
      "source": [
        "### `fori_loop`"
      ],
      "metadata": {
        "id": "e-EgpZ2Rrdrk"
      }
    },
    {
      "cell_type": "code",
      "source": [
        "def fori_loop(start, stop, body_fn, init_val):\n",
        "  val = init_val\n",
        "  for i in range(start, stop):\n",
        "    val = body_fn(val)\n",
        "  return val"
      ],
      "metadata": {
        "id": "X3KbRXv3rcWm"
      },
      "execution_count": null,
      "outputs": []
    },
    {
      "cell_type": "code",
      "source": [
        "init_val = 0\n",
        "start = 0\n",
        "stop = 10\n",
        "body_fn = lambda i, x: x+i\n",
        "lax.fori_loop(start, stop, body_fn, init_val)"
      ],
      "metadata": {
        "colab": {
          "base_uri": "https://localhost:8080/"
        },
        "id": "7Pz14VFfrl-W",
        "outputId": "602127f6-0b99-49c9-8b9a-23513e50d73a"
      },
      "execution_count": null,
      "outputs": [
        {
          "output_type": "execute_result",
          "data": {
            "text/plain": [
              "Array(45, dtype=int32, weak_type=True)"
            ]
          },
          "metadata": {},
          "execution_count": 35
        }
      ]
    },
    {
      "cell_type": "markdown",
      "source": [
        "### JAX within transforms like jit, vmap, gad, etc require all output arrays and intermediate arrays to have static shape!"
      ],
      "metadata": {
        "id": "68rxu0jttR_B"
      }
    },
    {
      "cell_type": "code",
      "source": [
        "def nansum(x):\n",
        "  mask = ~jnp.isnan(x)\n",
        "  x_without_nans = x[mask] # changes the shape of x\n",
        "  return x_without_nans.sum()"
      ],
      "metadata": {
        "id": "IOVyT_eHr6as"
      },
      "execution_count": null,
      "outputs": []
    },
    {
      "cell_type": "code",
      "source": [
        "x = jnp.array([1.,2.,3.,4.,jnp.nan])\n",
        "print(nansum(x))"
      ],
      "metadata": {
        "colab": {
          "base_uri": "https://localhost:8080/"
        },
        "id": "FgRpdCj4tfD1",
        "outputId": "07205e60-f20a-43cc-e271-314e8b5e837b"
      },
      "execution_count": null,
      "outputs": [
        {
          "output_type": "stream",
          "name": "stdout",
          "text": [
            "10.0\n"
          ]
        }
      ]
    },
    {
      "cell_type": "code",
      "source": [
        "jit(nansum)(x)"
      ],
      "metadata": {
        "colab": {
          "base_uri": "https://localhost:8080/",
          "height": 399
        },
        "id": "C4jh6L7ntk4D",
        "outputId": "522f8027-b6ae-416e-f4ee-ad8333e95cd8"
      },
      "execution_count": null,
      "outputs": [
        {
          "output_type": "error",
          "ename": "NonConcreteBooleanIndexError",
          "evalue": "Array boolean indices must be concrete; got ShapedArray(bool[5])\n\nSee https://jax.readthedocs.io/en/latest/errors.html#jax.errors.NonConcreteBooleanIndexError",
          "traceback": [
            "\u001b[0;31m---------------------------------------------------------------------------\u001b[0m",
            "\u001b[0;31mNonConcreteBooleanIndexError\u001b[0m              Traceback (most recent call last)",
            "\u001b[0;32m<ipython-input-38-7219a68b7355>\u001b[0m in \u001b[0;36m<cell line: 1>\u001b[0;34m()\u001b[0m\n\u001b[0;32m----> 1\u001b[0;31m \u001b[0mjit\u001b[0m\u001b[0;34m(\u001b[0m\u001b[0mnansum\u001b[0m\u001b[0;34m)\u001b[0m\u001b[0;34m(\u001b[0m\u001b[0mx\u001b[0m\u001b[0;34m)\u001b[0m\u001b[0;34m\u001b[0m\u001b[0;34m\u001b[0m\u001b[0m\n\u001b[0m",
            "    \u001b[0;31m[... skipping hidden 12 frame]\u001b[0m\n",
            "\u001b[0;32m<ipython-input-36-8485d1b5b7c9>\u001b[0m in \u001b[0;36mnansum\u001b[0;34m(x)\u001b[0m\n\u001b[1;32m      1\u001b[0m \u001b[0;32mdef\u001b[0m \u001b[0mnansum\u001b[0m\u001b[0;34m(\u001b[0m\u001b[0mx\u001b[0m\u001b[0;34m)\u001b[0m\u001b[0;34m:\u001b[0m\u001b[0;34m\u001b[0m\u001b[0;34m\u001b[0m\u001b[0m\n\u001b[1;32m      2\u001b[0m   \u001b[0mmask\u001b[0m \u001b[0;34m=\u001b[0m \u001b[0;34m~\u001b[0m\u001b[0mjnp\u001b[0m\u001b[0;34m.\u001b[0m\u001b[0misnan\u001b[0m\u001b[0;34m(\u001b[0m\u001b[0mx\u001b[0m\u001b[0;34m)\u001b[0m\u001b[0;34m\u001b[0m\u001b[0;34m\u001b[0m\u001b[0m\n\u001b[0;32m----> 3\u001b[0;31m   \u001b[0mx_without_nans\u001b[0m \u001b[0;34m=\u001b[0m \u001b[0mx\u001b[0m\u001b[0;34m[\u001b[0m\u001b[0mmask\u001b[0m\u001b[0;34m]\u001b[0m\u001b[0;34m\u001b[0m\u001b[0;34m\u001b[0m\u001b[0m\n\u001b[0m\u001b[1;32m      4\u001b[0m   \u001b[0;32mreturn\u001b[0m \u001b[0mx_without_nans\u001b[0m\u001b[0;34m.\u001b[0m\u001b[0msum\u001b[0m\u001b[0;34m(\u001b[0m\u001b[0;34m)\u001b[0m\u001b[0;34m\u001b[0m\u001b[0;34m\u001b[0m\u001b[0m\n",
            "\u001b[0;32m/usr/local/lib/python3.10/dist-packages/jax/_src/numpy/array_methods.py\u001b[0m in \u001b[0;36mop\u001b[0;34m(self, *args)\u001b[0m\n\u001b[1;32m    741\u001b[0m \u001b[0;32mdef\u001b[0m \u001b[0m_forward_operator_to_aval\u001b[0m\u001b[0;34m(\u001b[0m\u001b[0mname\u001b[0m\u001b[0;34m)\u001b[0m\u001b[0;34m:\u001b[0m\u001b[0;34m\u001b[0m\u001b[0;34m\u001b[0m\u001b[0m\n\u001b[1;32m    742\u001b[0m   \u001b[0;32mdef\u001b[0m \u001b[0mop\u001b[0m\u001b[0;34m(\u001b[0m\u001b[0mself\u001b[0m\u001b[0;34m,\u001b[0m \u001b[0;34m*\u001b[0m\u001b[0margs\u001b[0m\u001b[0;34m)\u001b[0m\u001b[0;34m:\u001b[0m\u001b[0;34m\u001b[0m\u001b[0;34m\u001b[0m\u001b[0m\n\u001b[0;32m--> 743\u001b[0;31m     \u001b[0;32mreturn\u001b[0m \u001b[0mgetattr\u001b[0m\u001b[0;34m(\u001b[0m\u001b[0mself\u001b[0m\u001b[0;34m.\u001b[0m\u001b[0maval\u001b[0m\u001b[0;34m,\u001b[0m \u001b[0;34mf\"_{name}\"\u001b[0m\u001b[0;34m)\u001b[0m\u001b[0;34m(\u001b[0m\u001b[0mself\u001b[0m\u001b[0;34m,\u001b[0m \u001b[0;34m*\u001b[0m\u001b[0margs\u001b[0m\u001b[0;34m)\u001b[0m\u001b[0;34m\u001b[0m\u001b[0;34m\u001b[0m\u001b[0m\n\u001b[0m\u001b[1;32m    744\u001b[0m   \u001b[0;32mreturn\u001b[0m \u001b[0mop\u001b[0m\u001b[0;34m\u001b[0m\u001b[0;34m\u001b[0m\u001b[0m\n\u001b[1;32m    745\u001b[0m \u001b[0;34m\u001b[0m\u001b[0m\n",
            "\u001b[0;32m/usr/local/lib/python3.10/dist-packages/jax/_src/numpy/array_methods.py\u001b[0m in \u001b[0;36m_getitem\u001b[0;34m(self, item)\u001b[0m\n\u001b[1;32m    354\u001b[0m \u001b[0;34m\u001b[0m\u001b[0m\n\u001b[1;32m    355\u001b[0m \u001b[0;32mdef\u001b[0m \u001b[0m_getitem\u001b[0m\u001b[0;34m(\u001b[0m\u001b[0mself\u001b[0m\u001b[0;34m,\u001b[0m \u001b[0mitem\u001b[0m\u001b[0;34m)\u001b[0m\u001b[0;34m:\u001b[0m\u001b[0;34m\u001b[0m\u001b[0;34m\u001b[0m\u001b[0m\n\u001b[0;32m--> 356\u001b[0;31m   \u001b[0;32mreturn\u001b[0m \u001b[0mlax_numpy\u001b[0m\u001b[0;34m.\u001b[0m\u001b[0m_rewriting_take\u001b[0m\u001b[0;34m(\u001b[0m\u001b[0mself\u001b[0m\u001b[0;34m,\u001b[0m \u001b[0mitem\u001b[0m\u001b[0;34m)\u001b[0m\u001b[0;34m\u001b[0m\u001b[0;34m\u001b[0m\u001b[0m\n\u001b[0m\u001b[1;32m    357\u001b[0m \u001b[0;34m\u001b[0m\u001b[0m\n\u001b[1;32m    358\u001b[0m \u001b[0;31m# Syntactic sugar for scatter operations.\u001b[0m\u001b[0;34m\u001b[0m\u001b[0;34m\u001b[0m\u001b[0m\n",
            "\u001b[0;32m/usr/local/lib/python3.10/dist-packages/jax/_src/numpy/lax_numpy.py\u001b[0m in \u001b[0;36m_rewriting_take\u001b[0;34m(arr, idx, indices_are_sorted, unique_indices, mode, fill_value)\u001b[0m\n\u001b[1;32m   4491\u001b[0m         \u001b[0;32mreturn\u001b[0m \u001b[0mlax\u001b[0m\u001b[0;34m.\u001b[0m\u001b[0mdynamic_index_in_dim\u001b[0m\u001b[0;34m(\u001b[0m\u001b[0marr\u001b[0m\u001b[0;34m,\u001b[0m \u001b[0midx\u001b[0m\u001b[0;34m,\u001b[0m \u001b[0mkeepdims\u001b[0m\u001b[0;34m=\u001b[0m\u001b[0;32mFalse\u001b[0m\u001b[0;34m)\u001b[0m\u001b[0;34m\u001b[0m\u001b[0;34m\u001b[0m\u001b[0m\n\u001b[1;32m   4492\u001b[0m \u001b[0;34m\u001b[0m\u001b[0m\n\u001b[0;32m-> 4493\u001b[0;31m   \u001b[0mtreedef\u001b[0m\u001b[0;34m,\u001b[0m \u001b[0mstatic_idx\u001b[0m\u001b[0;34m,\u001b[0m \u001b[0mdynamic_idx\u001b[0m \u001b[0;34m=\u001b[0m \u001b[0m_split_index_for_jit\u001b[0m\u001b[0;34m(\u001b[0m\u001b[0midx\u001b[0m\u001b[0;34m,\u001b[0m \u001b[0marr\u001b[0m\u001b[0;34m.\u001b[0m\u001b[0mshape\u001b[0m\u001b[0;34m)\u001b[0m\u001b[0;34m\u001b[0m\u001b[0;34m\u001b[0m\u001b[0m\n\u001b[0m\u001b[1;32m   4494\u001b[0m   return _gather(arr, treedef, static_idx, dynamic_idx, indices_are_sorted,\n\u001b[1;32m   4495\u001b[0m                  unique_indices, mode, fill_value)\n",
            "\u001b[0;32m/usr/local/lib/python3.10/dist-packages/jax/_src/numpy/lax_numpy.py\u001b[0m in \u001b[0;36m_split_index_for_jit\u001b[0;34m(idx, shape)\u001b[0m\n\u001b[1;32m   4569\u001b[0m   \u001b[0;31m# Expand any (concrete) boolean indices. We can then use advanced integer\u001b[0m\u001b[0;34m\u001b[0m\u001b[0;34m\u001b[0m\u001b[0m\n\u001b[1;32m   4570\u001b[0m   \u001b[0;31m# indexing logic to handle them.\u001b[0m\u001b[0;34m\u001b[0m\u001b[0;34m\u001b[0m\u001b[0m\n\u001b[0;32m-> 4571\u001b[0;31m   \u001b[0midx\u001b[0m \u001b[0;34m=\u001b[0m \u001b[0m_expand_bool_indices\u001b[0m\u001b[0;34m(\u001b[0m\u001b[0midx\u001b[0m\u001b[0;34m,\u001b[0m \u001b[0mshape\u001b[0m\u001b[0;34m)\u001b[0m\u001b[0;34m\u001b[0m\u001b[0;34m\u001b[0m\u001b[0m\n\u001b[0m\u001b[1;32m   4572\u001b[0m \u001b[0;34m\u001b[0m\u001b[0m\n\u001b[1;32m   4573\u001b[0m   \u001b[0mleaves\u001b[0m\u001b[0;34m,\u001b[0m \u001b[0mtreedef\u001b[0m \u001b[0;34m=\u001b[0m \u001b[0mtree_flatten\u001b[0m\u001b[0;34m(\u001b[0m\u001b[0midx\u001b[0m\u001b[0;34m)\u001b[0m\u001b[0;34m\u001b[0m\u001b[0;34m\u001b[0m\u001b[0m\n",
            "\u001b[0;32m/usr/local/lib/python3.10/dist-packages/jax/_src/numpy/lax_numpy.py\u001b[0m in \u001b[0;36m_expand_bool_indices\u001b[0;34m(idx, shape)\u001b[0m\n\u001b[1;32m   4856\u001b[0m       \u001b[0;32mif\u001b[0m \u001b[0;32mnot\u001b[0m \u001b[0mtype\u001b[0m\u001b[0;34m(\u001b[0m\u001b[0mabstract_i\u001b[0m\u001b[0;34m)\u001b[0m \u001b[0;32mis\u001b[0m \u001b[0mConcreteArray\u001b[0m\u001b[0;34m:\u001b[0m\u001b[0;34m\u001b[0m\u001b[0;34m\u001b[0m\u001b[0m\n\u001b[1;32m   4857\u001b[0m         \u001b[0;31m# TODO(mattjj): improve this error by tracking _why_ the indices are not concrete\u001b[0m\u001b[0;34m\u001b[0m\u001b[0;34m\u001b[0m\u001b[0m\n\u001b[0;32m-> 4858\u001b[0;31m         \u001b[0;32mraise\u001b[0m \u001b[0merrors\u001b[0m\u001b[0;34m.\u001b[0m\u001b[0mNonConcreteBooleanIndexError\u001b[0m\u001b[0;34m(\u001b[0m\u001b[0mabstract_i\u001b[0m\u001b[0;34m)\u001b[0m\u001b[0;34m\u001b[0m\u001b[0;34m\u001b[0m\u001b[0m\n\u001b[0m\u001b[1;32m   4859\u001b[0m       \u001b[0;32melif\u001b[0m \u001b[0m_ndim\u001b[0m\u001b[0;34m(\u001b[0m\u001b[0mi\u001b[0m\u001b[0;34m)\u001b[0m \u001b[0;34m==\u001b[0m \u001b[0;36m0\u001b[0m\u001b[0;34m:\u001b[0m\u001b[0;34m\u001b[0m\u001b[0;34m\u001b[0m\u001b[0m\n\u001b[1;32m   4860\u001b[0m         \u001b[0;32mraise\u001b[0m \u001b[0mTypeError\u001b[0m\u001b[0;34m(\u001b[0m\u001b[0;34m\"JAX arrays do not support boolean scalar indices\"\u001b[0m\u001b[0;34m)\u001b[0m\u001b[0;34m\u001b[0m\u001b[0;34m\u001b[0m\u001b[0m\n",
            "\u001b[0;31mNonConcreteBooleanIndexError\u001b[0m: Array boolean indices must be concrete; got ShapedArray(bool[5])\n\nSee https://jax.readthedocs.io/en/latest/errors.html#jax.errors.NonConcreteBooleanIndexError"
          ]
        }
      ]
    },
    {
      "cell_type": "code",
      "source": [
        "def nansum_2(x):\n",
        "  mask = ~jnp.isnan(x)\n",
        "  return jnp.where(mask, x, 0).sum()"
      ],
      "metadata": {
        "id": "egbhTQr5tnNM"
      },
      "execution_count": null,
      "outputs": []
    },
    {
      "cell_type": "code",
      "source": [
        "jit(nansum_2)(x)"
      ],
      "metadata": {
        "colab": {
          "base_uri": "https://localhost:8080/"
        },
        "id": "zaebAa84t5yi",
        "outputId": "25d3a6e4-8135-458b-de90-8e6454642bd9"
      },
      "execution_count": null,
      "outputs": [
        {
          "output_type": "execute_result",
          "data": {
            "text/plain": [
              "Array(10., dtype=float32)"
            ]
          },
          "metadata": {},
          "execution_count": 42
        }
      ]
    },
    {
      "cell_type": "markdown",
      "source": [
        "## More of JIT\n",
        "\n",
        "* JAX transformation\n",
        "* JAX compilation\n",
        "\n",
        "JAX transformation and compilation are designed to work **only** on **functionally pure** Python functions.\n",
        "\n",
        "\n",
        "JIT is used for a Python function to be executed efficiently in XLA.\n",
        "\n",
        "It's pretty confusing at the beginning to know which will be considered as side-effects for @jit. I find it helpful to understand how `jit` abstracts the values in a function through `jaxpr`. For example, as we are seeing the below of `Traced<ShapedArray(int32[], weak_type=True)`, that's how the function is abstracted by @jit, and by specializing the type of the argument, like having a type constraints, we can run an optimized code in XLA.\n",
        "\n",
        "The abstraction level of tracing has tradeoffs. The reason why JAX does tracing in its way is because we can reuse the function for other values once it's compiled (with same type, dimention) without implementing the function again, as it's stored in XLA.(Is this a right understanding?)\n",
        "\n",
        "Unlike jax.jit being more strict, jax.grad's constraints are more relexed.\n",
        "\n",
        "\n",
        "So, this works somehow.\n",
        "\n",
        "```\n",
        "def dim_x_2(x):\n",
        "  if x.ndim == 2:\n",
        "    return x*2\n",
        "  else:\n",
        "    return x\n",
        "\n",
        "jit_log2 = jit(dim_x_2)\n",
        "jit_log2(jnp.array([[1,2]])) # Array([[2, 4]], dtype=int32)\n",
        "\n",
        "```\n",
        "But the following returns an error. (It's an example from the JAX documentation)\n",
        "\n",
        "```\n",
        "def f(x):\n",
        "  if x > 0: # x == 0 doesn't work either\n",
        "    return x\n",
        "  else:\n",
        "    return 2 * x\n",
        "\n",
        "f_jit = jax.jit(f)\n",
        "f_jit(10)\n",
        "```\n",
        "\n",
        "So, the dimension checking condition works but if it doesn't work if the condition depends on the actual values in the argument.\n",
        "\n",
        "```\n",
        "def type_float(x):\n",
        "  if type(x) == float:\n",
        "    return x\n",
        "  else:\n",
        "    return x*2\n",
        "\n",
        "jit_type_float = jit(type_float)\n",
        "jit_type_float(1)\n",
        "```\n",
        "\n",
        "This worked as well. So in summary, `jit` works well with conditions if it only has to check the dimension or the type of the input, however, if it has to check the actual values in the input, it'll return error."
      ],
      "metadata": {
        "id": "kAPJriW1z3AG"
      }
    },
    {
      "cell_type": "code",
      "source": [
        "def print_side_effect(x):\n",
        "  print(\"Executing function\")\n",
        "  return x"
      ],
      "metadata": {
        "id": "23Z1dnbFt7r9"
      },
      "execution_count": 1,
      "outputs": []
    },
    {
      "cell_type": "code",
      "source": [
        "print(f\"Just with Python: {print_side_effect(4)}\")"
      ],
      "metadata": {
        "colab": {
          "base_uri": "https://localhost:8080/"
        },
        "id": "EpAKTzE11W6F",
        "outputId": "f764770f-1354-4a01-d496-920bb0775096"
      },
      "execution_count": 2,
      "outputs": [
        {
          "output_type": "stream",
          "name": "stdout",
          "text": [
            "Executing function\n",
            "Just with Python: 4\n"
          ]
        }
      ]
    },
    {
      "cell_type": "code",
      "source": [
        "from jax import jit\n",
        "print(f\"First JAX call: {jit(print_side_effect)(4.)}\")"
      ],
      "metadata": {
        "colab": {
          "base_uri": "https://localhost:8080/"
        },
        "id": "sbJX_SfC1cg9",
        "outputId": "a365932c-21e9-4272-9dd1-72ff0a480f14"
      },
      "execution_count": 3,
      "outputs": [
        {
          "output_type": "stream",
          "name": "stdout",
          "text": [
            "Executing function\n",
            "First JAX call: 4.0\n"
          ]
        }
      ]
    },
    {
      "cell_type": "code",
      "source": [
        "# I think the result is because during the first run, the JAX function is compiled to jaxpr and show the results only in jaxpr\n",
        "print(f\"Second JAX call: {jit(print_side_effect)(5.)}\")"
      ],
      "metadata": {
        "colab": {
          "base_uri": "https://localhost:8080/"
        },
        "id": "iNM6rXe51qhC",
        "outputId": "f6953236-d547-4c56-d6d4-86303fa0ba58"
      },
      "execution_count": 4,
      "outputs": [
        {
          "output_type": "stream",
          "name": "stdout",
          "text": [
            "Second JAX call: 5.0\n"
          ]
        }
      ]
    },
    {
      "cell_type": "code",
      "source": [
        "# But if we put a different type (or a shape)\n",
        "print(f'Third JAX call with an array: {jit(print_side_effect)([6.])}')"
      ],
      "metadata": {
        "colab": {
          "base_uri": "https://localhost:8080/"
        },
        "id": "bJKvMHzp12uc",
        "outputId": "b9dc6d64-3797-48bb-db35-5b81033e9361"
      },
      "execution_count": 5,
      "outputs": [
        {
          "output_type": "stream",
          "name": "stdout",
          "text": [
            "Executing function\n",
            "Third JAX call with an array: [Array(6., dtype=float32, weak_type=True)]\n"
          ]
        }
      ]
    },
    {
      "cell_type": "markdown",
      "source": [
        "https://github.com/google/jax/issues/196"
      ],
      "metadata": {
        "id": "2kXSZvlL9Rn-"
      }
    },
    {
      "cell_type": "code",
      "source": [],
      "metadata": {
        "id": "JO3J79WA8qD4"
      },
      "execution_count": null,
      "outputs": []
    },
    {
      "cell_type": "code",
      "source": [
        "g = 0\n",
        "def global_var_side_effect(x):\n",
        "  print(f'g: {g}')\n",
        "  return x + g"
      ],
      "metadata": {
        "id": "re8wTn7L2NZp"
      },
      "execution_count": 7,
      "outputs": []
    },
    {
      "cell_type": "code",
      "source": [
        "global_var_side_effect(4)"
      ],
      "metadata": {
        "colab": {
          "base_uri": "https://localhost:8080/"
        },
        "id": "0Qf9i28427IK",
        "outputId": "4ee65970-b4c0-447a-e0be-a4c24075b2a5"
      },
      "execution_count": 10,
      "outputs": [
        {
          "output_type": "stream",
          "name": "stdout",
          "text": [
            "g: 0\n"
          ]
        },
        {
          "output_type": "execute_result",
          "data": {
            "text/plain": [
              "4"
            ]
          },
          "metadata": {},
          "execution_count": 10
        }
      ]
    },
    {
      "cell_type": "code",
      "source": [
        "g = 10\n",
        "global_var_side_effect(5)"
      ],
      "metadata": {
        "colab": {
          "base_uri": "https://localhost:8080/"
        },
        "id": "ydstXEOP27Ke",
        "outputId": "8047b660-11b1-4800-8916-f6963d41a628"
      },
      "execution_count": 11,
      "outputs": [
        {
          "output_type": "stream",
          "name": "stdout",
          "text": [
            "g: 10\n"
          ]
        },
        {
          "output_type": "execute_result",
          "data": {
            "text/plain": [
              "15"
            ]
          },
          "metadata": {},
          "execution_count": 11
        }
      ]
    },
    {
      "cell_type": "code",
      "source": [
        "g = 0\n",
        "print(f'First JAX call: {jit(global_var_side_effect)(4.)}')"
      ],
      "metadata": {
        "colab": {
          "base_uri": "https://localhost:8080/"
        },
        "id": "H_ayMd8e2gsx",
        "outputId": "bdf0fc34-a370-4e61-a9fd-5da8263e5bdd"
      },
      "execution_count": 12,
      "outputs": [
        {
          "output_type": "stream",
          "name": "stdout",
          "text": [
            "First JAX call: 4.0\n"
          ]
        }
      ]
    },
    {
      "cell_type": "code",
      "source": [
        "print(jit(global_var_side_effect)(5.))"
      ],
      "metadata": {
        "colab": {
          "base_uri": "https://localhost:8080/"
        },
        "id": "Ts9VofBe2rdX",
        "outputId": "2dd3f250-760f-4409-f444-102ce888c747"
      },
      "execution_count": 13,
      "outputs": [
        {
          "output_type": "stream",
          "name": "stdout",
          "text": [
            "5.0\n"
          ]
        }
      ]
    },
    {
      "cell_type": "code",
      "source": [
        "g = 10\n",
        "# doesn't reflect a new g's value\n",
        "print(f'Second JAX call: {jit(global_var_side_effect)(5.)}')"
      ],
      "metadata": {
        "colab": {
          "base_uri": "https://localhost:8080/"
        },
        "id": "thF2XdgB2xwZ",
        "outputId": "a7da3673-fc02-47d9-9a64-77cbfbc587a9"
      },
      "execution_count": 14,
      "outputs": [
        {
          "output_type": "stream",
          "name": "stdout",
          "text": [
            "Second JAX call: 5.0\n"
          ]
        }
      ]
    },
    {
      "cell_type": "code",
      "source": [
        "# but if we put another type, the function will be re-run\n",
        "import jax.numpy as jnp\n",
        "print(f'Third JAX call: {jit(global_var_side_effect)(jnp.array([10.]))}')"
      ],
      "metadata": {
        "colab": {
          "base_uri": "https://localhost:8080/"
        },
        "id": "-rpWQNH03MG2",
        "outputId": "0420bf11-0a6a-49a3-caf3-3eeb2e096b60"
      },
      "execution_count": 17,
      "outputs": [
        {
          "output_type": "stream",
          "name": "stdout",
          "text": [
            "g: 10\n",
            "Third JAX call: [20.]\n"
          ]
        }
      ]
    },
    {
      "cell_type": "code",
      "source": [
        "g = 0\n",
        "def global_kw_impure(x):\n",
        "  global g\n",
        "  g = x\n",
        "  return x"
      ],
      "metadata": {
        "id": "1wcawK3_3ZMb"
      },
      "execution_count": 21,
      "outputs": []
    },
    {
      "cell_type": "code",
      "source": [
        "global_kw_impure(5)"
      ],
      "metadata": {
        "colab": {
          "base_uri": "https://localhost:8080/"
        },
        "id": "FmcVq_1P4JMx",
        "outputId": "d3377d7c-cca8-45f5-9af0-a0a5242ca03c"
      },
      "execution_count": 19,
      "outputs": [
        {
          "output_type": "execute_result",
          "data": {
            "text/plain": [
              "5"
            ]
          },
          "metadata": {},
          "execution_count": 19
        }
      ]
    },
    {
      "cell_type": "code",
      "source": [
        "print(g)"
      ],
      "metadata": {
        "colab": {
          "base_uri": "https://localhost:8080/"
        },
        "id": "oANXe7Sk4MBD",
        "outputId": "0d7b3f2a-70dc-415c-8142-a1f836ad7a70"
      },
      "execution_count": 20,
      "outputs": [
        {
          "output_type": "stream",
          "name": "stdout",
          "text": [
            "5\n"
          ]
        }
      ]
    },
    {
      "cell_type": "code",
      "source": [
        "print(f'First call: {jit(global_kw_impure)(5)}')"
      ],
      "metadata": {
        "colab": {
          "base_uri": "https://localhost:8080/"
        },
        "id": "NaKQieFH4Nsq",
        "outputId": "46f19f1b-592e-4bbc-b148-8e9066b26179"
      },
      "execution_count": 22,
      "outputs": [
        {
          "output_type": "stream",
          "name": "stdout",
          "text": [
            "First call: 5\n"
          ]
        }
      ]
    },
    {
      "cell_type": "code",
      "source": [
        "print(g)"
      ],
      "metadata": {
        "colab": {
          "base_uri": "https://localhost:8080/"
        },
        "id": "is7-2yJe4w18",
        "outputId": "0984e208-c035-4981-eefb-19938f19e9d8"
      },
      "execution_count": 23,
      "outputs": [
        {
          "output_type": "stream",
          "name": "stdout",
          "text": [
            "Traced<ShapedArray(int32[], weak_type=True)>with<DynamicJaxprTrace(level=1/0)>\n"
          ]
        }
      ]
    },
    {
      "cell_type": "code",
      "source": [
        "print(f'Second call: {jit(global_kw_impure)(6)}')"
      ],
      "metadata": {
        "colab": {
          "base_uri": "https://localhost:8080/"
        },
        "id": "Xb1_JeQU4y2E",
        "outputId": "77766a4a-8351-4c82-f319-d89f22ba04a3"
      },
      "execution_count": 26,
      "outputs": [
        {
          "output_type": "stream",
          "name": "stdout",
          "text": [
            "Second call: 6\n"
          ]
        }
      ]
    },
    {
      "cell_type": "code",
      "source": [
        "print(g)"
      ],
      "metadata": {
        "colab": {
          "base_uri": "https://localhost:8080/"
        },
        "id": "R0uPSD5n482R",
        "outputId": "d13a2cf9-824a-475b-a4b7-305a183f0b0c"
      },
      "execution_count": 27,
      "outputs": [
        {
          "output_type": "stream",
          "name": "stdout",
          "text": [
            "Traced<ShapedArray(float32[], weak_type=True)>with<DynamicJaxprTrace(level=1/0)>\n"
          ]
        }
      ]
    },
    {
      "cell_type": "code",
      "source": [
        "def pure_internal_state(x):\n",
        "  state = dict(even=0, odd = 0) # if the state is internally defined and motified, a function can be functionally pure\n",
        "  for i in range(10):\n",
        "    state['even' if i % 2 == 0 else 'odd'] += x\n",
        "  return state['even']"
      ],
      "metadata": {
        "id": "N9cHornM5A2l"
      },
      "execution_count": 36,
      "outputs": []
    },
    {
      "cell_type": "code",
      "source": [
        "print(jit(pure_internal_state)(5.))"
      ],
      "metadata": {
        "colab": {
          "base_uri": "https://localhost:8080/"
        },
        "id": "-laSh8fb9esa",
        "outputId": "10dd4433-e8fc-4a5d-dfcb-6cd0949e78de"
      },
      "execution_count": 38,
      "outputs": [
        {
          "output_type": "stream",
          "name": "stdout",
          "text": [
            "25.0\n"
          ]
        }
      ]
    },
    {
      "cell_type": "markdown",
      "source": [
        "It's not recommended to use iterator in any JAX function you want to `jit` or put in any control-flow primitive."
      ],
      "metadata": {
        "id": "PegDeOg093GA"
      }
    },
    {
      "cell_type": "code",
      "source": [
        "import jax.lax as lax\n",
        "from jax import make_jaxpr\n",
        "\n",
        "array = jnp.arange(10); array"
      ],
      "metadata": {
        "colab": {
          "base_uri": "https://localhost:8080/"
        },
        "id": "R3YdEC589jCF",
        "outputId": "0136ec86-dd78-4056-c88b-cc0f4f72e472"
      },
      "execution_count": 48,
      "outputs": [
        {
          "output_type": "execute_result",
          "data": {
            "text/plain": [
              "Array([0, 1, 2, 3, 4, 5, 6, 7, 8, 9], dtype=int32)"
            ]
          },
          "metadata": {},
          "execution_count": 48
        }
      ]
    },
    {
      "cell_type": "code",
      "source": [
        "print(lax.fori_loop(0,10,lambda i, x : x+array[i], 0))# looping over i, x is initialized to 0; so essentially adding numbers in array array"
      ],
      "metadata": {
        "colab": {
          "base_uri": "https://localhost:8080/"
        },
        "id": "4ui0AMcB-MXl",
        "outputId": "9dd5d99f-f23e-45fa-f49a-1f83007cc8f6"
      },
      "execution_count": 42,
      "outputs": [
        {
          "output_type": "stream",
          "name": "stdout",
          "text": [
            "45\n"
          ]
        }
      ]
    },
    {
      "cell_type": "code",
      "source": [
        "iterator = iter(range(10))\n",
        "iterator # python object that retrieves next value"
      ],
      "metadata": {
        "colab": {
          "base_uri": "https://localhost:8080/"
        },
        "id": "Ki5jk4So-84F",
        "outputId": "5184b571-785a-4a26-9950-19ced4834d06"
      },
      "execution_count": 44,
      "outputs": [
        {
          "output_type": "execute_result",
          "data": {
            "text/plain": [
              "<range_iterator at 0x7a82ef6b1500>"
            ]
          },
          "metadata": {},
          "execution_count": 44
        }
      ]
    },
    {
      "cell_type": "code",
      "source": [
        "lax.fori_loop(0,10, lambda i, x: x+next(iterator), 0)"
      ],
      "metadata": {
        "colab": {
          "base_uri": "https://localhost:8080/"
        },
        "id": "cMPDrfwMSLM3",
        "outputId": "6e0c5957-d9b2-407a-c422-455999836436"
      },
      "execution_count": 46,
      "outputs": [
        {
          "output_type": "execute_result",
          "data": {
            "text/plain": [
              "Array(0, dtype=int32, weak_type=True)"
            ]
          },
          "metadata": {},
          "execution_count": 46
        }
      ]
    },
    {
      "cell_type": "code",
      "source": [
        "def func11(arr, extra):\n",
        "  ones = jnp.ones(arr.shape)\n",
        "  def body(carry, aelems):\n",
        "    ae1, ae2 = aelems\n",
        "    return (carry + ae1*ae2 + extra, carry)\n",
        "  return lax.scan(body, 0., (arr, ones)) #lax.scan is still confusing"
      ],
      "metadata": {
        "id": "ud-kCi0QSSnb"
      },
      "execution_count": 58,
      "outputs": []
    },
    {
      "cell_type": "code",
      "source": [
        "make_jaxpr(func11)(jnp.arange(16), 5.)"
      ],
      "metadata": {
        "colab": {
          "base_uri": "https://localhost:8080/"
        },
        "id": "APelHvX6UfGF",
        "outputId": "85357479-e373-4108-b363-02b586c7bb26"
      },
      "execution_count": 51,
      "outputs": [
        {
          "output_type": "execute_result",
          "data": {
            "text/plain": [
              "{ lambda ; a:i32[16] b:f32[]. let\n",
              "    c:f32[16] = broadcast_in_dim[broadcast_dimensions=() shape=(16,)] 1.0\n",
              "    d:f32[] e:f32[16] = scan[\n",
              "      jaxpr={ lambda ; f:f32[] g:f32[] h:i32[] i:f32[]. let\n",
              "          j:f32[] = convert_element_type[new_dtype=float32 weak_type=False] h\n",
              "          k:f32[] = mul j i\n",
              "          l:f32[] = convert_element_type[new_dtype=float32 weak_type=False] g\n",
              "          m:f32[] = add l k\n",
              "          n:f32[] = convert_element_type[new_dtype=float32 weak_type=False] f\n",
              "          o:f32[] = add m n\n",
              "        in (o, g) }\n",
              "      length=16\n",
              "      linear=(False, False, False, False)\n",
              "      num_carry=1\n",
              "      num_consts=1\n",
              "      reverse=False\n",
              "      unroll=1\n",
              "    ] b 0.0 a c\n",
              "  in (d, e) }"
            ]
          },
          "metadata": {},
          "execution_count": 51
        }
      ]
    },
    {
      "cell_type": "code",
      "source": [
        "func11(jnp.array([1.,2.]), 5.)"
      ],
      "metadata": {
        "colab": {
          "base_uri": "https://localhost:8080/"
        },
        "id": "0MqISpE_UifU",
        "outputId": "fbb38b57-5ff3-4dc6-b1d6-2314c80f8bbb"
      },
      "execution_count": 59,
      "outputs": [
        {
          "output_type": "execute_result",
          "data": {
            "text/plain": [
              "(Array(13., dtype=float32), Array([0., 6.], dtype=float32, weak_type=True))"
            ]
          },
          "metadata": {},
          "execution_count": 59
        }
      ]
    },
    {
      "cell_type": "code",
      "source": [
        "def body(carry, aelems):\n",
        "  ae1, ae2 = aelems\n",
        "  return (carry + ae1*ae2 + 5., carry)"
      ],
      "metadata": {
        "id": "ZNFtkz4MXi3b"
      },
      "execution_count": 61,
      "outputs": []
    },
    {
      "cell_type": "code",
      "source": [
        "jnp.array([[1,2]]).ndim"
      ],
      "metadata": {
        "colab": {
          "base_uri": "https://localhost:8080/"
        },
        "id": "X1Tj5x4ncXQu",
        "outputId": "634923ce-dc7d-4d5a-ba93-ac132e2efacf"
      },
      "execution_count": 81,
      "outputs": [
        {
          "output_type": "execute_result",
          "data": {
            "text/plain": [
              "2"
            ]
          },
          "metadata": {},
          "execution_count": 81
        }
      ]
    },
    {
      "cell_type": "code",
      "source": [
        "type(1.) == float"
      ],
      "metadata": {
        "colab": {
          "base_uri": "https://localhost:8080/"
        },
        "id": "BNFvfU8Lcxkq",
        "outputId": "c1beaae1-4e23-42c2-b01e-6b05dffee203"
      },
      "execution_count": 86,
      "outputs": [
        {
          "output_type": "execute_result",
          "data": {
            "text/plain": [
              "True"
            ]
          },
          "metadata": {},
          "execution_count": 86
        }
      ]
    },
    {
      "cell_type": "code",
      "source": [
        "def type_float(x):\n",
        "  if type(x) == float:\n",
        "    return x\n",
        "  else:\n",
        "    return x*2\n",
        "\n",
        "jit_type_float = jit(type_float)\n",
        "jit_type_float(1)"
      ],
      "metadata": {
        "colab": {
          "base_uri": "https://localhost:8080/"
        },
        "id": "FjIAdSPNdB88",
        "outputId": "c98f6302-936c-4e13-fec2-923e97920e38"
      },
      "execution_count": 87,
      "outputs": [
        {
          "output_type": "execute_result",
          "data": {
            "text/plain": [
              "Array(2, dtype=int32, weak_type=True)"
            ]
          },
          "metadata": {},
          "execution_count": 87
        }
      ]
    },
    {
      "cell_type": "code",
      "source": [
        "def dim_x_2(x):\n",
        "  if x.ndim == 2:\n",
        "    return x*2\n",
        "  else:\n",
        "    return x\n",
        "\n",
        "jit_log2 = jit(dim_x_2)\n",
        "jit_log2(jnp.array([[1,2]]))"
      ],
      "metadata": {
        "colab": {
          "base_uri": "https://localhost:8080/"
        },
        "id": "QFyfaclmYBQZ",
        "outputId": "daedd790-2f81-4c23-eb7d-e5e0602d94db"
      },
      "execution_count": 82,
      "outputs": [
        {
          "output_type": "execute_result",
          "data": {
            "text/plain": [
              "Array([[2, 4]], dtype=int32)"
            ]
          },
          "metadata": {},
          "execution_count": 82
        }
      ]
    },
    {
      "cell_type": "code",
      "source": [
        "from jax import jit\n",
        "jit_log2 = jit(log2_if_rank_2)"
      ],
      "metadata": {
        "id": "KQ3AecLyaOHW"
      },
      "execution_count": 68,
      "outputs": []
    },
    {
      "cell_type": "code",
      "source": [
        "jit_log2(jnp.array([1,2,3]))"
      ],
      "metadata": {
        "colab": {
          "base_uri": "https://localhost:8080/"
        },
        "id": "XMnHu5BEaVNQ",
        "outputId": "b5cf76ca-3e8b-4644-9f08-e9f704137642"
      },
      "execution_count": 69,
      "outputs": [
        {
          "output_type": "execute_result",
          "data": {
            "text/plain": [
              "Array([1, 2, 3], dtype=int32)"
            ]
          },
          "metadata": {},
          "execution_count": 69
        }
      ]
    },
    {
      "cell_type": "code",
      "source": [
        "make_jaxpr(jit_log2)(jnp.array([1,2,3]))"
      ],
      "metadata": {
        "colab": {
          "base_uri": "https://localhost:8080/"
        },
        "id": "QS1y1g6UaXtB",
        "outputId": "c77d1fd8-2656-4237-bc0d-8b1d54345bfc"
      },
      "execution_count": 74,
      "outputs": [
        {
          "output_type": "execute_result",
          "data": {
            "text/plain": [
              "{ lambda ; a:i32[3]. let\n",
              "    b:i32[3] = pjit[\n",
              "      name=log2_if_rank_2\n",
              "      jaxpr={ lambda ; c:i32[3]. let  in (c,) }\n",
              "    ] a\n",
              "  in (b,) }"
            ]
          },
          "metadata": {},
          "execution_count": 74
        }
      ]
    },
    {
      "cell_type": "code",
      "source": [
        "# you can jit only the computationally intensive part\n",
        "\n",
        "@jit\n",
        "def loop_i(prev_i):\n",
        "  return prev_i + 1\n",
        "\n",
        "def until_n(x, n):\n",
        "  i = 0\n",
        "  while i<n:\n",
        "    i = loop_i(i)\n",
        "  return x+i\n",
        "\n",
        "until_n(10,20)"
      ],
      "metadata": {
        "colab": {
          "base_uri": "https://localhost:8080/"
        },
        "id": "WJnMhfq1agnj",
        "outputId": "54799d71-eb72-4f14-c041-b509676d18e6"
      },
      "execution_count": 88,
      "outputs": [
        {
          "output_type": "execute_result",
          "data": {
            "text/plain": [
              "Array(30, dtype=int32, weak_type=True)"
            ]
          },
          "metadata": {},
          "execution_count": 88
        }
      ]
    },
    {
      "cell_type": "code",
      "source": [
        "def f(x):\n",
        "  if x > 0:\n",
        "    return x\n",
        "  else:\n",
        "    return 2 * x\n",
        "\n",
        "# jit(f)(10) doesn't work because it has to check the values in x\n",
        "\n",
        "jit(f, static_argnums=0)(10)"
      ],
      "metadata": {
        "colab": {
          "base_uri": "https://localhost:8080/"
        },
        "id": "vulbMolTcH_H",
        "outputId": "2c0f0af0-2629-47b0-98c4-9d623f568347"
      },
      "execution_count": 90,
      "outputs": [
        {
          "output_type": "execute_result",
          "data": {
            "text/plain": [
              "Array(10, dtype=int32, weak_type=True)"
            ]
          },
          "metadata": {},
          "execution_count": 90
        }
      ]
    },
    {
      "cell_type": "code",
      "source": [
        "def g(x,n):\n",
        "  i = 0\n",
        "  while i<n:\n",
        "    i += 1\n",
        "  return x+i\n",
        "\n",
        "# jit(g)(10,20) returns an error as well because it has to check the value of n\n",
        "jit(g, static_argnames=['n'])(10,20)"
      ],
      "metadata": {
        "colab": {
          "base_uri": "https://localhost:8080/"
        },
        "id": "YJZ3Oo5OgNVd",
        "outputId": "4a6b8c9d-66ff-4308-8bbc-f719776189e2"
      },
      "execution_count": 91,
      "outputs": [
        {
          "output_type": "execute_result",
          "data": {
            "text/plain": [
              "Array(30, dtype=int32, weak_type=True)"
            ]
          },
          "metadata": {},
          "execution_count": 91
        }
      ]
    },
    {
      "cell_type": "code",
      "source": [
        "# we can use decorators\n",
        "\n",
        "from functools import partial\n",
        "\n",
        "@partial(jax.jit, static_argnames=['n'])\n",
        "def g_decorated(x,n):\n",
        "  i = 0\n",
        "  while i<n:\n",
        "    i += 1\n",
        "  return x+i\n",
        "\n",
        "g_decorated(10,20)"
      ],
      "metadata": {
        "colab": {
          "base_uri": "https://localhost:8080/"
        },
        "id": "COCd961sgdck",
        "outputId": "f49f8293-a6b7-4af6-d15c-713e212b1fed"
      },
      "execution_count": 92,
      "outputs": [
        {
          "output_type": "execute_result",
          "data": {
            "text/plain": [
              "Array(30, dtype=int32, weak_type=True)"
            ]
          },
          "metadata": {},
          "execution_count": 92
        }
      ]
    },
    {
      "cell_type": "markdown",
      "source": [
        "## Caching\n",
        "\n",
        "It's important to understand the caching behavior of `jit`\n",
        "\n",
        "Suppose we define a jit function `jitted_g = jax.jit(g)`. When I first invoke `jitted_g`, it'll get compiled, and the resulting XLA code will get cached. Subsequent calls of `jitted_g` will reuse the compile code. This is how jit makes up for the upfront compilation cost.\n",
        "\n",
        "If we specify `static_argnums`, then the cached code will only be reused for the same values for that static argument. If anything changes of it, recompilation occurs.\n",
        "\n",
        "## Manual Vectorization"
      ],
      "metadata": {
        "id": "aonGjK3FhRcB"
      }
    },
    {
      "cell_type": "code",
      "source": [
        "# convolution of 2d arrays\n",
        "\n",
        "x = jnp.arange(5); print(x)\n",
        "w = jnp.array([2.,3.,4.])\n"
      ],
      "metadata": {
        "colab": {
          "base_uri": "https://localhost:8080/"
        },
        "id": "IgZ6evRngrIL",
        "outputId": "b5d0ce5b-ab8d-4d5a-c7c0-d77704cca9e3"
      },
      "execution_count": 93,
      "outputs": [
        {
          "output_type": "stream",
          "name": "stdout",
          "text": [
            "[0 1 2 3 4]\n"
          ]
        }
      ]
    },
    {
      "cell_type": "code",
      "source": [
        "def convolve(x,w):\n",
        "  output = []\n",
        "  for i in range(1,len(x)-1):\n",
        "    output.append(jnp.dot(x[i-1:i+2],w))\n",
        "  return jnp.array(output)\n",
        "\n",
        "convolve(x,w)"
      ],
      "metadata": {
        "colab": {
          "base_uri": "https://localhost:8080/"
        },
        "id": "1bHZ117njNZx",
        "outputId": "5fff861c-73be-4067-acfc-562982d956ae"
      },
      "execution_count": 95,
      "outputs": [
        {
          "output_type": "execute_result",
          "data": {
            "text/plain": [
              "Array([11., 20., 29.], dtype=float32)"
            ]
          },
          "metadata": {},
          "execution_count": 95
        }
      ]
    },
    {
      "cell_type": "code",
      "source": [
        "# suppose we want to run this to a batch of `x`s and `w`s\n",
        "\n",
        "xs = jnp.stack([x,x]); print(xs)\n",
        "ws = jnp.stack([w,w]); print(ws)"
      ],
      "metadata": {
        "colab": {
          "base_uri": "https://localhost:8080/"
        },
        "id": "1garN9U8jdG1",
        "outputId": "eac37b7b-ecf7-4a53-977c-93125f1f4b2c"
      },
      "execution_count": 101,
      "outputs": [
        {
          "output_type": "stream",
          "name": "stdout",
          "text": [
            "[[0 1 2 3 4]\n",
            " [0 1 2 3 4]]\n",
            "[[2. 3. 4.]\n",
            " [2. 3. 4.]]\n"
          ]
        }
      ]
    },
    {
      "cell_type": "code",
      "source": [
        "# naive solution - not very efficient\n",
        "\n",
        "def manually_batched_convolve(xs,ws):\n",
        "  output = []\n",
        "  for i in range(xs.shape[0]):\n",
        "    output.append(convolve(xs[i], ws[i]))\n",
        "  return jnp.stack(output)\n",
        "\n",
        "manually_batched_convolve(xs,ws)"
      ],
      "metadata": {
        "colab": {
          "base_uri": "https://localhost:8080/"
        },
        "id": "U-fcZ0T7jtbW",
        "outputId": "d971d37f-e864-45f9-acee-9c2d257bd7ce"
      },
      "execution_count": 97,
      "outputs": [
        {
          "output_type": "execute_result",
          "data": {
            "text/plain": [
              "Array([[11., 20., 29.],\n",
              "       [11., 20., 29.]], dtype=float32)"
            ]
          },
          "metadata": {},
          "execution_count": 97
        }
      ]
    },
    {
      "cell_type": "code",
      "source": [
        "jnp.sum(xs[:,0:3]*ws, axis=1)"
      ],
      "metadata": {
        "colab": {
          "base_uri": "https://localhost:8080/"
        },
        "id": "VxyT5g4QkAX6",
        "outputId": "85625786-19d2-4bf8-e142-e22163991bd5"
      },
      "execution_count": 104,
      "outputs": [
        {
          "output_type": "execute_result",
          "data": {
            "text/plain": [
              "Array([11., 11.], dtype=float32)"
            ]
          },
          "metadata": {},
          "execution_count": 104
        }
      ]
    },
    {
      "cell_type": "code",
      "source": [
        "def manually_vectorized_convolve(xs, ws):\n",
        "  output = []\n",
        "  for i in range(1, xs.shape[-1]-1):\n",
        "    output.append(jnp.sum(xs[:,i-1:i+2]*ws, axis=1))\n",
        "  print(output)\n",
        "  return jnp.stack(output, axis=1)"
      ],
      "metadata": {
        "id": "Yzgx7JLrkwOK"
      },
      "execution_count": 105,
      "outputs": []
    },
    {
      "cell_type": "code",
      "source": [
        "manually_vectorized_convolve(xs,ws)"
      ],
      "metadata": {
        "colab": {
          "base_uri": "https://localhost:8080/"
        },
        "id": "zjKfjp4ilhTA",
        "outputId": "11cc9528-ff0e-437a-c3e8-764260ed276e"
      },
      "execution_count": 106,
      "outputs": [
        {
          "output_type": "stream",
          "name": "stdout",
          "text": [
            "[Array([11., 11.], dtype=float32), Array([20., 20.], dtype=float32), Array([29., 29.], dtype=float32)]\n"
          ]
        },
        {
          "output_type": "execute_result",
          "data": {
            "text/plain": [
              "Array([[11., 20., 29.],\n",
              "       [11., 20., 29.]], dtype=float32)"
            ]
          },
          "metadata": {},
          "execution_count": 106
        }
      ]
    },
    {
      "cell_type": "markdown",
      "source": [
        "## Automatic Vectorization"
      ],
      "metadata": {
        "id": "8J1i-KI1l0s7"
      }
    },
    {
      "cell_type": "code",
      "source": [
        "def convolve(x,w):\n",
        "  output = []\n",
        "  for i in range(1,len(x)-1):\n",
        "    output.append(jnp.dot(x[i-1:i+2],w))\n",
        "  return jnp.array(output)\n",
        "\n",
        "jax.vmap(convolve)(xs,ws)"
      ],
      "metadata": {
        "colab": {
          "base_uri": "https://localhost:8080/"
        },
        "id": "36SJpdNhliso",
        "outputId": "d031296e-214c-4698-9978-3ae1e7cd9c34"
      },
      "execution_count": 107,
      "outputs": [
        {
          "output_type": "execute_result",
          "data": {
            "text/plain": [
              "Array([[11., 20., 29.],\n",
              "       [11., 20., 29.]], dtype=float32)"
            ]
          },
          "metadata": {},
          "execution_count": 107
        }
      ]
    },
    {
      "cell_type": "code",
      "source": [
        "# vmaps in_axes and out_axes args are the location of the batch dimension in inputs and for outputs\n",
        "\n",
        "xst = jnp.transpose(xs); print(xst) # in this case, the batch location is 1\n",
        "wst = jnp.transpose(ws); print(wst)\n",
        "\n",
        "jax.vmap(convolve, in_axes=1, out_axes=1)(xst,wst)"
      ],
      "metadata": {
        "colab": {
          "base_uri": "https://localhost:8080/"
        },
        "id": "ynmFZiuJmToX",
        "outputId": "17eac9ac-370d-4297-e0bc-e833609e44f5"
      },
      "execution_count": 112,
      "outputs": [
        {
          "output_type": "stream",
          "name": "stdout",
          "text": [
            "[[0 0]\n",
            " [1 1]\n",
            " [2 2]\n",
            " [3 3]\n",
            " [4 4]]\n",
            "[[2. 2.]\n",
            " [3. 3.]\n",
            " [4. 4.]]\n"
          ]
        },
        {
          "output_type": "execute_result",
          "data": {
            "text/plain": [
              "Array([[11., 11.],\n",
              "       [20., 20.],\n",
              "       [29., 29.]], dtype=float32)"
            ]
          },
          "metadata": {},
          "execution_count": 112
        }
      ]
    },
    {
      "cell_type": "code",
      "source": [
        "jax.vmap(convolve, in_axes=1, out_axes=0)(xst, wst) # if we want batch dimension comes back to 0"
      ],
      "metadata": {
        "colab": {
          "base_uri": "https://localhost:8080/"
        },
        "id": "DaJtenGkmoYR",
        "outputId": "8f6459c2-78ec-4c89-a6e0-36e789693d38"
      },
      "execution_count": 113,
      "outputs": [
        {
          "output_type": "execute_result",
          "data": {
            "text/plain": [
              "Array([[11., 20., 29.],\n",
              "       [11., 20., 29.]], dtype=float32)"
            ]
          },
          "metadata": {},
          "execution_count": 113
        }
      ]
    },
    {
      "cell_type": "code",
      "source": [
        "# what if we have x batched, but want to use not batched weights\n",
        "\n",
        "jax.vmap(convolve, in_axes=[0, None])(xs,w)"
      ],
      "metadata": {
        "colab": {
          "base_uri": "https://localhost:8080/"
        },
        "id": "6eBavhSCnEhs",
        "outputId": "16d6154e-829d-49a0-81bf-1700e8168e25"
      },
      "execution_count": 114,
      "outputs": [
        {
          "output_type": "execute_result",
          "data": {
            "text/plain": [
              "Array([[11., 20., 29.],\n",
              "       [11., 20., 29.]], dtype=float32)"
            ]
          },
          "metadata": {},
          "execution_count": 114
        }
      ]
    },
    {
      "cell_type": "code",
      "source": [
        "# we can jit vmap\n",
        "jax.jit(jax.vmap(convolve, in_axes=1, out_axes=0))(xst, wst)"
      ],
      "metadata": {
        "colab": {
          "base_uri": "https://localhost:8080/"
        },
        "id": "jf584lJtnoWM",
        "outputId": "cee1449a-446d-44be-a5f3-7e07ab4b6118"
      },
      "execution_count": 115,
      "outputs": [
        {
          "output_type": "execute_result",
          "data": {
            "text/plain": [
              "Array([[11., 20., 29.],\n",
              "       [11., 20., 29.]], dtype=float32)"
            ]
          },
          "metadata": {},
          "execution_count": 115
        }
      ]
    },
    {
      "cell_type": "code",
      "source": [],
      "metadata": {
        "id": "8vnJYS9Vn4bj"
      },
      "execution_count": null,
      "outputs": []
    }
  ]
}